{
 "nbformat": 4,
 "nbformat_minor": 2,
 "metadata": {
  "language_info": {
   "name": "python",
   "codemirror_mode": {
    "name": "ipython",
    "version": 3
   },
   "version": "3.7.4-final"
  },
  "orig_nbformat": 2,
  "file_extension": ".py",
  "mimetype": "text/x-python",
  "name": "python",
  "npconvert_exporter": "python",
  "pygments_lexer": "ipython3",
  "version": 3,
  "kernelspec": {
   "name": "python3",
   "display_name": "Python 3"
  }
 },
 "cells": [
  {
   "cell_type": "code",
   "execution_count": 4,
   "metadata": {},
   "outputs": [],
   "source": [
    "def _try_composite(a, d, n, s):\n",
    "    if pow(a, d, n) == 1:\n",
    "        return False\n",
    "    for i in range(s):\n",
    "        if pow(a, 2**i * d, n) == n-1:\n",
    "            return False\n",
    "    return True # n  is definitely composite\n",
    " \n",
    "def is_prime(n, _precision_for_huge_n=16):\n",
    "    if n in _known_primes:\n",
    "        return True\n",
    "    if any((n % p) == 0 for p in _known_primes) or n in (0, 1):\n",
    "        return False\n",
    "    d, s = n - 1, 0\n",
    "    while not d % 2:\n",
    "        d, s = d >> 1, s + 1\n",
    "    # Returns exact according to http://primes.utm.edu/prove/prove2_3.html\n",
    "    if n < 1373653: \n",
    "        return not any(_try_composite(a, d, n, s) for a in (2, 3))\n",
    "    if n < 25326001: \n",
    "        return not any(_try_composite(a, d, n, s) for a in (2, 3, 5))\n",
    "    if n < 118670087467: \n",
    "        if n == 3215031751: \n",
    "            return False\n",
    "        return not any(_try_composite(a, d, n, s) for a in (2, 3, 5, 7))\n",
    "    if n < 2152302898747: \n",
    "        return not any(_try_composite(a, d, n, s) for a in (2, 3, 5, 7, 11))\n",
    "    if n < 3474749660383: \n",
    "        return not any(_try_composite(a, d, n, s) for a in (2, 3, 5, 7, 11, 13))\n",
    "    if n < 341550071728321: \n",
    "        return not any(_try_composite(a, d, n, s) for a in (2, 3, 5, 7, 11, 13, 17))\n",
    "    # otherwise\n",
    "    return not any(_try_composite(a, d, n, s) \n",
    "                   for a in _known_primes[:_precision_for_huge_n])\n",
    " \n",
    "_known_primes = [2, 3]\n",
    "_known_primes += [x for x in range(5, 1000, 2) if is_prime(x)]"
   ]
  },
  {
   "cell_type": "code",
   "execution_count": 2,
   "metadata": {},
   "outputs": [
    {
     "data": {
      "text/plain": "False"
     },
     "execution_count": 2,
     "metadata": {},
     "output_type": "execute_result"
    }
   ],
   "source": [
    "is_prime(120104196703076817)"
   ]
  },
  {
   "cell_type": "code",
   "execution_count": 3,
   "metadata": {},
   "outputs": [
    {
     "data": {
      "text/plain": "True"
     },
     "execution_count": 3,
     "metadata": {},
     "output_type": "execute_result"
    }
   ],
   "source": [
    "is_prime(100001591)"
   ]
  },
  {
   "cell_type": "code",
   "execution_count": 24,
   "metadata": {},
   "outputs": [],
   "source": [
    "all_prime = filter(is_prime,range(100000))\n"
   ]
  },
  {
   "cell_type": "code",
   "execution_count": 25,
   "metadata": {},
   "outputs": [
    {
     "data": {
      "text/plain": "2"
     },
     "execution_count": 25,
     "metadata": {},
     "output_type": "execute_result"
    }
   ],
   "source": [
    "next(all_prime)"
   ]
  },
  {
   "cell_type": "code",
   "execution_count": 5,
   "metadata": {},
   "outputs": [
    {
     "data": {
      "text/plain": "[2,\n 3,\n 5,\n 7,\n 11,\n 13,\n 17,\n 19,\n 23,\n 29,\n 31,\n 37,\n 41,\n 43,\n 47,\n 53,\n 59,\n 61,\n 67,\n 71,\n 73,\n 79,\n 83,\n 89,\n 97,\n 101,\n 103,\n 107,\n 109,\n 113,\n 127,\n 131,\n 137,\n 139,\n 149,\n 151,\n 157,\n 163,\n 167,\n 173,\n 179,\n 181,\n 191,\n 193,\n 197,\n 199,\n 211,\n 223,\n 227,\n 229,\n 233,\n 239,\n 241,\n 251,\n 257,\n 263,\n 269,\n 271,\n 277,\n 281,\n 283,\n 293,\n 307,\n 311,\n 313,\n 317,\n 331,\n 337,\n 347,\n 349,\n 353,\n 359,\n 367,\n 373,\n 379,\n 383,\n 389,\n 397,\n 401,\n 409,\n 419,\n 421,\n 431,\n 433,\n 439,\n 443,\n 449,\n 457,\n 461,\n 463,\n 467,\n 479,\n 487,\n 491,\n 499,\n 503,\n 509,\n 521,\n 523,\n 541,\n 547,\n 557,\n 563,\n 569,\n 571,\n 577,\n 587,\n 593,\n 599,\n 601,\n 607,\n 613,\n 617,\n 619,\n 631,\n 641,\n 643,\n 647,\n 653,\n 659,\n 661,\n 673,\n 677,\n 683,\n 691,\n 701,\n 709,\n 719,\n 727,\n 733,\n 739,\n 743,\n 751,\n 757,\n 761,\n 769,\n 773,\n 787,\n 797,\n 809,\n 811,\n 821,\n 823,\n 827,\n 829,\n 839,\n 853,\n 857,\n 859,\n 863,\n 877,\n 881,\n 883,\n 887,\n 907,\n 911,\n 919,\n 929,\n 937,\n 941,\n 947,\n 953,\n 967,\n 971,\n 977,\n 983,\n 991,\n 997]"
     },
     "execution_count": 5,
     "metadata": {},
     "output_type": "execute_result"
    }
   ],
   "source": [
    "_known_primes"
   ]
  },
  {
   "cell_type": "code",
   "execution_count": 35,
   "metadata": {},
   "outputs": [],
   "source": [
    "from math import floor, sqrt\n",
    " \n",
    "def fac(n):\n",
    "    step = lambda x: 1 + (x<<2) - ((x>>1)<<1)\n",
    "    maxq = int(floor(sqrt(n)))\n",
    "    d = 1\n",
    "    q = 2 if n % 2 == 0 else 3 \n",
    "    while q <= maxq and n % q != 0:\n",
    "        q = step(d)\n",
    "        d += 1\n",
    "    return [q] + fac(n // q) if q <= maxq else [n]\n",
    "\n",
    "def fac1(n):\n",
    "    step = lambda x: 1 + (x<<2) - ((x>>1)<<1) if x != 0 else 3\n",
    "    maxq = int(floor(sqrt(n)))\n",
    "    faclist = []\n",
    "    d = 0\n",
    "    q = 2 if n % 2 == 0 else 3 \n",
    "    while q <= maxq:\n",
    "        while q <= maxq and n % q != 0:\n",
    "            q = step(d)\n",
    "            d += 1\n",
    "        else:\n",
    "            if q <= maxq:\n",
    "                faclist.append(q)\n",
    "                n //= q\n",
    "                if n ==1 : break\n",
    "                maxq = int(floor(sqrt(n))) if n > 3 else 3\n",
    "    else:\n",
    "        faclist.append(n)\n",
    "    return  faclist\n",
    "        \n",
    "def fac2(n):\n",
    "    def fac_sub(n,d,q):\n",
    "        step = lambda x: 1 + (x<<2) - ((x>>1)<<1)\n",
    "        maxq = int(floor(sqrt(n)))\n",
    "        while q <= maxq and n % q != 0:\n",
    "            q = step(d)\n",
    "            d += 1\n",
    "        return [q] + fac_sub(n // q ,d ,q) if q <= maxq else [n]\n",
    "    \n",
    "    r = 0\n",
    "    if n < 4:\n",
    "        return [n]\n",
    "    else:\n",
    "        while n % 2 == 0 :\n",
    "            n //= 2\n",
    "            r += 1\n",
    "        return [2] * r if n == 1 else [2] * r + fac_sub(n,1,3) \n"
   ]
  },
  {
   "cell_type": "code",
   "execution_count": 36,
   "metadata": {},
   "outputs": [
    {
     "name": "stdout",
     "output_type": "stream",
     "text": "[0]\n[1]\n[2]\n[3]\n[2, 2]\n[5]\n[2, 3]\n[7]\n[2, 2, 2]\n[3, 3]\n[2, 5]\n[11]\n[2, 2, 3]\n[13]\n[2, 7]\n[3, 5]\n[2, 2, 2, 2]\n[17]\n[2, 3, 3]\n[19]\n[2, 2, 5]\n[3, 7]\n[2, 11]\n[23]\n[2, 2, 2, 3]\n[5, 5]\n[2, 13]\n[3, 3, 3]\n[2, 2, 7]\n[29]\n[2, 3, 5]\n[31]\n[2, 2, 2, 2, 2]\n[3, 11]\n[2, 17]\n[5, 7]\n[2, 2, 3, 3]\n[37]\n[2, 19]\n[3, 13]\n[2, 2, 2, 5]\n[41]\n[2, 3, 7]\n[43]\n[2, 2, 11]\n[3, 3, 5]\n[2, 23]\n[47]\n[2, 2, 2, 2, 3]\n[7, 7]\n"
    }
   ],
   "source": [
    "for i in range(50):print(fac2(i))"
   ]
  },
  {
   "cell_type": "code",
   "execution_count": 34,
   "metadata": {},
   "outputs": [
    {
     "name": "stdout",
     "output_type": "stream",
     "text": "120104196703076817 = 3 * 3 * 7 * 7 * 11 * 11 * 2441 * 20063 * 45959\nNeeded 0.007000923156738281s\n"
    }
   ],
   "source": [
    "import time\n",
    "start = time.time()\n",
    "tocalc =  120104196703076817\n",
    "print(\"%s = %s\" % (tocalc, ' * '.join(map(str,fac(tocalc)))))\n",
    "print(\"Needed %ss\" % (time.time() - start))\n",
    "    "
   ]
  },
  {
   "cell_type": "code",
   "execution_count": 148,
   "metadata": {},
   "outputs": [
    {
     "name": "stdout",
     "output_type": "stream",
     "text": "576460752303423487 = 179951 * 3203431780337\nWall time: 967 ms\n576460752303423487 = 179951 * 3203431780337\nWall time: 865 ms\n576460752303423487 = 179951 * 3203431780337\nWall time: 770 ms\n823 ms ± 41.4 ms per loop (mean ± std. dev. of 7 runs, 1 loop each)\n825 ms ± 30.6 ms per loop (mean ± std. dev. of 7 runs, 1 loop each)\n804 ms ± 135 ms per loop (mean ± std. dev. of 7 runs, 1 loop each)\n"
    }
   ],
   "source": [
    "tocalc =  2**59-1 #120104196703076817\n",
    "%time print(\"%s = %s\" % (tocalc, ' * '.join(map(str,fac(tocalc)))))\n",
    "%time print(\"%s = %s\" % (tocalc, ' * '.join(map(str,fac1(tocalc)))))\n",
    "%time print(\"%s = %s\" % (tocalc, ' * '.join(map(str,fac2(tocalc)))))\n",
    "%timeit fac(tocalc)\n",
    "%timeit fac1(tocalc)\n",
    "%timeit fac2(tocalc)\n"
   ]
  },
  {
   "cell_type": "code",
   "execution_count": 37,
   "metadata": {},
   "outputs": [
    {
     "name": "stdout",
     "output_type": "stream",
     "text": "576460752303423487 = 179951 * 3203431780337\nWall time: 1.4 s\n576460752303423487 = 179951 * 3203431780337\nWall time: 975 ms\n576460752303423487 = 179951 * 3203431780337\nWall time: 826 ms\n987 ms ± 55.3 ms per loop (mean ± std. dev. of 7 runs, 1 loop each)\n921 ms ± 56.2 ms per loop (mean ± std. dev. of 7 runs, 1 loop each)\n883 ms ± 51.9 ms per loop (mean ± std. dev. of 7 runs, 1 loop each)\n"
    }
   ],
   "source": [
    "tocalc =  2**59-1 #120104196703076817\n",
    "%time print(\"%s = %s\" % (tocalc, ' * '.join(map(str,fac(tocalc)))))\n",
    "%time print(\"%s = %s\" % (tocalc, ' * '.join(map(str,fac1(tocalc)))))\n",
    "%time print(\"%s = %s\" % (tocalc, ' * '.join(map(str,fac2(tocalc)))))\n",
    "%timeit fac(tocalc)\n",
    "%timeit fac1(tocalc)\n",
    "%timeit fac2(tocalc)"
   ]
  },
  {
   "cell_type": "code",
   "execution_count": 153,
   "metadata": {},
   "outputs": [
    {
     "name": "stdout",
     "output_type": "stream",
     "text": "2147483647 = 2147483647\nWall time: 14 ms\n2147483647 = 2147483647\nWall time: 18 ms\n2147483647 = 2147483647\nWall time: 16 ms\n18.4 ms ± 1.6 ms per loop (mean ± std. dev. of 7 runs, 10 loops each)\n21.8 ms ± 3.62 ms per loop (mean ± std. dev. of 7 runs, 10 loops each)\n17.6 ms ± 846 µs per loop (mean ± std. dev. of 7 runs, 100 loops each)\n"
    }
   ],
   "source": [
    "tocalc =  2**31-1 #120104196703076817\n",
    "%time print(\"%s = %s\" % (tocalc, ' * '.join(map(str,fac(tocalc)))))\n",
    "%time print(\"%s = %s\" % (tocalc, ' * '.join(map(str,fac1(tocalc)))))\n",
    "%time print(\"%s = %s\" % (tocalc, ' * '.join(map(str,fac2(tocalc)))))\n",
    "%timeit fac(tocalc)\n",
    "%timeit fac1(tocalc)\n",
    "%timeit fac2(tocalc)\n"
   ]
  },
  {
   "cell_type": "code",
   "execution_count": 3,
   "metadata": {},
   "outputs": [
    {
     "data": {
      "text/plain": "[1, 5, 7, 11, 13, 17, 19, 23, 25, 29]"
     },
     "execution_count": 3,
     "metadata": {},
     "output_type": "execute_result"
    }
   ],
   "source": [
    "step = lambda x: 1 + (x<<2) - ((x>>1)<<1)\n",
    "[step(i) for i in range(10)]"
   ]
  },
  {
   "cell_type": "code",
   "execution_count": 20,
   "metadata": {},
   "outputs": [
    {
     "name": "stdout",
     "output_type": "stream",
     "text": "120104196703076817 = 3^2 * 7^2 * 11^2 * 2441 *20063 * 45959\nNeeded 0.3560354709625244s\n"
    }
   ],
   "source": [
    "def facter(n):\n",
    "    print('%d = '%n ,end ='')\n",
    "    d = n\n",
    "    for i in filter(is_prime,range(n)):\n",
    "        k = 0\n",
    "        while not d % i :\n",
    "            d //= i \n",
    "            k += 1\n",
    "        if k == 0: continue\n",
    "        if k == 1:  \n",
    "            print ('%d'%i,end ='')\n",
    "        else:\n",
    "            print ('%d^%d'%(i,k),end ='')\n",
    "        if d == 1:break\n",
    "        print(' *',end =' ')\n",
    "        if is_prime(d): \n",
    "            print('%d'%d ,end ='')\n",
    "            break\n",
    "start = time.time()\n",
    "tocalc =  120104196703076817\n",
    "facter(tocalc)\n",
    "print(\"\\nNeeded %ss\" % (time.time() - start))"
   ]
  },
  {
   "cell_type": "code",
   "execution_count": null,
   "metadata": {},
   "outputs": [],
   "source": []
  }
 ]
}