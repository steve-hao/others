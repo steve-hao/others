{
 "cells": [
  {
   "cell_type": "markdown",
   "metadata": {},
   "source": [
    "# When Cheryl Met Eve: A Birthday Story"
   ]
  },
  {
   "cell_type": "markdown",
   "metadata": {},
   "source": [
    "Peter Norvig, May 2015\n",
    "\n",
    "The \"Cheryl's Birthday\" logic puzzle  [made the rounds](https://www.google.com/webhp?#q=cheryl%27s+birthday),\n",
    "and  I wrote [code](Cheryl.ipynb) that solves it. There I said that one reason for solving the problem with code rather than pencil and paper is that you can do more with code.  [Gabe Gaster](http://www.gabegaster.com/) proved me right when he [tweeted](https://twitter.com/gabegaster/status/593976413314777089/photo/1)  that he had extended my code to generate a new list of dates that satisfies the constraints of the puzzle:\n",
    "\n",
    "     January 15, January 4,\n",
    "     July 13, July 24, July 30,\n",
    "     March 13, March 24,\n",
    "     May 11, May 17, May 30\n",
    "\n",
    "In this notebook, I verify Gabe's result, and find some other variations on the puzzle.\n",
    "\n",
    "First, let's recap  [the puzzle](https://en.wikipedia.org/wiki/Cheryl%27s_Birthday):\n",
    "\n",
    "> Albert and Bernard just became friends with Cheryl, and they want to know when her birthday is. Cheryl gives them a list of 10 possible dates:\n",
    "\n",
    ">     May       15 16       19\n",
    ">     June            17 18\t\n",
    ">     July   14    16\t\t\t\n",
    ">     August 14 15    17\t\t\n",
    "\n",
    "> Cheryl then tells Albert and Bernard separately the month and the day of her birthday respectively.\n",
    "\n",
    ">**Albert**: I don't know when Cheryl's birthday is, but I know that Bernard does not know too.\n",
    "\n",
    ">**Bernard**: At first I don't know when Cheryl's birthday is, but I know now.\n",
    "\n",
    ">**Albert**: Then I also know when Cheryl's birthday is.\n",
    "\n",
    ">So when is Cheryl's birthday?\""
   ]
  },
  {
   "cell_type": "markdown",
   "metadata": {},
   "source": [
    "# Code for Original Cheryl's Birthday Puzzle"
   ]
  },
  {
   "cell_type": "markdown",
   "metadata": {},
   "source": [
    "This is a slight modification of my [previous code](Cheryl.ipynb), and I'll give a slight modification of the explanation. The puzzle concerns these concepts:\n",
    "\n",
    "- **Possible dates** that might be Cheryl's birthday.\n",
    "- **Knowing** which dates are still possible; knowing for sure when only one is possible.\n",
    "- **Telling** Albert and Bernard specific facts about the birthday.\n",
    "- **Statements** about knowledge.\n",
    "- **Hearing** the statements about knowledge.\n",
    "\n",
    "I implement them as follows:\n",
    "- `DATES` is a set of all possible dates (each date is a string); we also consider subsets of `DATES`.\n",
    "- `know(possible_dates)` is a function that returns `True` when there is only one possible date.\n",
    "- `tell(part)` is a function that returns the set of possible dates after Cheryl tells a part (month or day).\n",
    "- *`statement`*`(date)` returns true for dates that satisfy the statement.\n",
    "- `hear(possible_dates, statement,...)` returns a subset of possible_dates that are still possible after hearing the statements.\n",
    "\n",
    "For example, `albert1` is Albert's first statement, which says in part that he knows that Bernard\n",
    "does not yet know Cheryl's birthday. So `albert1('May 19')` should be `False`, because if May 19 were Cheryl's birthday, then she would have told Bernard `'19'`, he would know that `'May 19'` is the only possibility.\n",
    "\n",
    "`tell('17')` returns `{'June 17', 'August 17'}`, the set of possible dates after Bernard is told `'17'`. \n",
    "\n",
    " `know(tell('17'))` is `False` because if Bernard was told `'17'` he would not know Cheryl's birthday for sure; there would be two possibilities. But `know(tell('19'))` is `True` because there would be only one possibility.\n"
   ]
  },
  {
   "cell_type": "code",
   "execution_count": 1,
   "metadata": {},
   "outputs": [],
   "source": [
    "from operator import *\n",
    "DATAS={}\n",
    "BeliefSet = set\n",
    "\n",
    "def tell(part, op=contains) -> BeliefSet:\n",
    "    \"tells a part of DATAS to someone; acording justyfy op return a set of possible datas.\"\n",
    "    return {data for data in DATAS if op(data,part)}\n",
    "\n",
    "def know(beliefs) -> bool:\n",
    "    \"A person `knows` the answer if their belief set has only one possibility.\"\n",
    "    return len(beliefs) == 1\n",
    "\n",
    "def hear(items:set, *predicates) -> BeliefSet:\n",
    "    \"Return the subset of items that hear all the predicates.\"\n",
    "    return {item for item in items\n",
    "            if all(pred(item) for pred in predicates)}\n",
    "\n",
    "def using(datas):\n",
    "    \"init global variable DATAS.\"\n",
    "    global DATAS # This is necessary because `tell` looks at `DATES`\n",
    "    DATAS = datas\n",
    "    return datas"
   ]
  },
  {
   "cell_type": "code",
   "execution_count": 13,
   "metadata": {},
   "outputs": [],
   "source": [
    "# Albert and Bernard just became friends with Cheryl, and they want to know when her birthday is. \n",
    "# Cheryl gives them a set of 10 possible dates:\n",
    "\n",
    "cheryl_dates =  {\n",
    "     'May 15',    'May 16',    'May 19',\n",
    "    'June 17',   'June 18',\n",
    "    'July 14',   'July 16',\n",
    "  'August 14', 'August 15', 'August 17'}\n",
    "\n",
    "def month(date): return date.split()[0]\n",
    "\n",
    "def day(date):   return date.split()[1]\n",
    "\n",
    "# Cheryl then tells Albert and Bernard separately \n",
    "# the month and the day of the birthday respectively.\n",
    "\n",
    "# Albert and Bernard make three statements:\n",
    "\n",
    "def albert1(date):\n",
    "    \"Albert: I don't know when Cheryl's birthday is, but I know that Bernard does not know too.\"\n",
    "    after_being_told = tell(month(date))\n",
    "    return (not know(after_being_told) \n",
    "            and all(not know(tell(day(d)))\n",
    "                    for d in after_being_told))\n",
    "\n",
    "def bernard1(date):\n",
    "    \"Bernard: At first I don't know when Cheryl's birthday is, but I know now.\"\n",
    "    at_first = tell(day(date))\n",
    "    return (not know(at_first)\n",
    "            and know(hear(at_first, albert1)))\n",
    "\n",
    "def albert2(date):\n",
    "    \"Albert: Then I also know when Cheryl's birthday is.\"\n",
    "    return know(hear(tell(month(date)), bernard1))\n",
    "    \n",
    "# So when is Cheryl's birthday?\n",
    "\n",
    "def cheryls_birthday(dates):\n",
    "    \"Return a list of the possible dates after hearing the three statements.\"\n",
    "    return hear(using(dates), albert1, bernard1, albert2)\n",
    "\n",
    "using(cheryl_dates)\n",
    "\n",
    "# Some tests\n",
    "\n",
    "assert month('May 19') == 'May'\n",
    "assert day('May 19') == '19'\n",
    "assert albert1('May 19') == False\n",
    "assert albert1('July 14') == True\n",
    "assert know(tell('17')) == False\n",
    "assert know(tell('19')) == True"
   ]
  },
  {
   "cell_type": "code",
   "execution_count": 37,
   "metadata": {},
   "outputs": [
    {
     "output_type": "execute_result",
     "data": {
      "text/plain": "{'August 14',\n 'August 15',\n 'August 17',\n 'July 14',\n 'July 16',\n 'June 17',\n 'June 18',\n 'May 15',\n 'May 16',\n 'May 19'}"
     },
     "metadata": {},
     "execution_count": 37
    }
   ],
   "source": [
    "using(cheryl_dates)"
   ]
  },
  {
   "cell_type": "code",
   "execution_count": 14,
   "metadata": {},
   "outputs": [
    {
     "output_type": "execute_result",
     "data": {
      "text/plain": "{'August 14',\n 'August 15',\n 'August 17',\n 'July 14',\n 'July 16',\n 'June 17',\n 'June 18',\n 'May 15',\n 'May 16',\n 'May 19'}"
     },
     "metadata": {},
     "execution_count": 14
    }
   ],
   "source": [
    "DATAS"
   ]
  },
  {
   "cell_type": "code",
   "execution_count": 38,
   "metadata": {},
   "outputs": [
    {
     "output_type": "execute_result",
     "data": {
      "text/plain": "{'May 15', 'May 16', 'May 19'}"
     },
     "metadata": {},
     "execution_count": 38
    }
   ],
   "source": [
    "tell('May')"
   ]
  },
  {
   "cell_type": "code",
   "execution_count": 39,
   "metadata": {},
   "outputs": [
    {
     "output_type": "execute_result",
     "data": {
      "text/plain": "{'August 14',\n 'August 15',\n 'August 17',\n 'July 14',\n 'July 16',\n 'June 17',\n 'June 18',\n 'May 15',\n 'May 16',\n 'May 19'}"
     },
     "metadata": {},
     "execution_count": 39
    }
   ],
   "source": [
    "tell('')"
   ]
  },
  {
   "cell_type": "code",
   "execution_count": 15,
   "metadata": {},
   "outputs": [
    {
     "output_type": "execute_result",
     "data": {
      "text/plain": "{'July 16'}"
     },
     "metadata": {},
     "execution_count": 15
    }
   ],
   "source": [
    "cheryls_birthday(cheryl_dates)"
   ]
  },
  {
   "cell_type": "code",
   "execution_count": 16,
   "metadata": {},
   "outputs": [
    {
     "output_type": "execute_result",
     "data": {
      "text/plain": "{'August 14', 'August 15', 'August 17', 'July 14', 'July 16'}"
     },
     "metadata": {},
     "execution_count": 16
    }
   ],
   "source": [
    "hear(cheryl_dates, albert1)"
   ]
  },
  {
   "cell_type": "code",
   "execution_count": 17,
   "metadata": {},
   "outputs": [
    {
     "output_type": "execute_result",
     "data": {
      "text/plain": "{'August 15', 'August 17', 'July 16'}"
     },
     "metadata": {},
     "execution_count": 17
    }
   ],
   "source": [
    "hear(cheryl_dates, albert1, bernard1)"
   ]
  },
  {
   "cell_type": "code",
   "execution_count": 18,
   "metadata": {},
   "outputs": [
    {
     "output_type": "execute_result",
     "data": {
      "text/plain": "{'July 16'}"
     },
     "metadata": {},
     "execution_count": 18
    }
   ],
   "source": [
    "hear(cheryl_dates, albert1, bernard1, albert2)"
   ]
  },
  {
   "cell_type": "markdown",
   "metadata": {},
   "source": [
    "# Verifying Gabe's Version"
   ]
  },
  {
   "cell_type": "markdown",
   "metadata": {},
   "source": [
    "Gabe tweeted these ten dates:"
   ]
  },
  {
   "cell_type": "code",
   "execution_count": 19,
   "metadata": {},
   "outputs": [],
   "source": [
    "gabe_dates = [\n",
    "  'January 15', 'January 4',\n",
    "  'July 13',    'July 24',   'July 30',\n",
    "  'March 13',   'March 24',\n",
    "  'May 11',     'May 17',    'May 30']"
   ]
  },
  {
   "cell_type": "markdown",
   "metadata": {},
   "source": [
    "We can verify that they do indeed make the puzzle work, giving a single known birthdate:"
   ]
  },
  {
   "cell_type": "code",
   "execution_count": 20,
   "metadata": {},
   "outputs": [
    {
     "output_type": "execute_result",
     "data": {
      "text/plain": "{'July 30'}"
     },
     "metadata": {},
     "execution_count": 20
    }
   ],
   "source": [
    "cheryls_birthday(gabe_dates)"
   ]
  },
  {
   "cell_type": "markdown",
   "metadata": {},
   "source": [
    "# Creating Our Own Versions"
   ]
  },
  {
   "cell_type": "markdown",
   "metadata": {},
   "source": [
    "If Gabe can do it, we can do it!  Our strategy will be to repeatedly pick a random sample of dates, and check if they solve the puzzle. We'll limit ourselves to a subset of dates (not all 366) to make it more likely that a random selection will have multiple dates with the same month and day (otherwise Albert and Bernard would know right away):"
   ]
  },
  {
   "cell_type": "markdown",
   "metadata": {},
   "source": [
    "Now we need to cycle through random samples of these possible dates until we hit one that works.  I anticipate wanting to solve other puzzles besides the original `cheryls_birthday`, so I'll make the `puzzle` be a parameter of the function `pick_dates`. Note that `pick_dates` returns two things: the one date that is the solution (the birthday), and the `k` (default 10) dates that form the puzzle."
   ]
  },
  {
   "cell_type": "code",
   "execution_count": 64,
   "metadata": {},
   "outputs": [],
   "source": [
    "import random\n",
    "\n",
    "def pick_dates(puzzle=cheryls_birthday, k=10):\n",
    "    \"Pick a set of dates for which the puzzle has a unique solution.\"\n",
    "    while True:\n",
    "        dates = set(random.sample(some_dates, k))\n",
    "        solutions = puzzle(dates)\n",
    "        if know(solutions):\n",
    "            return solutions.pop(), dates"
   ]
  },
  {
   "cell_type": "code",
   "execution_count": 23,
   "metadata": {},
   "outputs": [
    {
     "output_type": "execute_result",
     "data": {
      "text/plain": "('April 26',\n {'April 18',\n  'April 26',\n  'April 28',\n  'July 17',\n  'July 26',\n  'July 29',\n  'June 26',\n  'March 18',\n  'March 28',\n  'May 28'})"
     },
     "metadata": {},
     "execution_count": 23
    }
   ],
   "source": [
    "pick_dates()"
   ]
  },
  {
   "cell_type": "markdown",
   "metadata": {},
   "source": [
    "Great! We can make a new puzzle, just like Gabe.  But how often do we get a unique solution to the puzzle (that is, the puzzle returns a set of size 1)?  How often do we get a solution where Albert and Bernard know, but we the puzzle solver doesn't (that is, a set of size greater than 1)?  How often is there no solution (size 0)? Let's make a Counter of the number of times each length-of-solution occurs:"
   ]
  },
  {
   "cell_type": "code",
   "execution_count": 65,
   "metadata": {},
   "outputs": [],
   "source": [
    "from collections import Counter\n",
    "\n",
    "def counter(puzzle=cheryls_birthday, N=10000, k=10):\n",
    "    \"Try N random samples and count how often each possible length-of-solution appears.\"\n",
    "    return Counter(len(puzzle(set(random.sample(some_dates, k))))\n",
    "                   for _ in range(N))"
   ]
  },
  {
   "cell_type": "code",
   "execution_count": 66,
   "metadata": {},
   "outputs": [
    {
     "output_type": "execute_result",
     "data": {
      "text/plain": "Counter({1: 593, 0: 8709, 2: 696, 3: 2})"
     },
     "metadata": {},
     "execution_count": 66
    }
   ],
   "source": [
    "counter(cheryls_birthday)"
   ]
  },
  {
   "cell_type": "markdown",
   "metadata": {},
   "source": [
    "This says that about 6% of the time we get a unique solution (a set of `len` 1). With similar frequency we get an ambiguous solution (with 2 or more possible birth dates).  And most of the time, the sample of dates leads to no solution.\n",
    "\n",
    "What happens if Cheryl changes the number of possible dates?"
   ]
  },
  {
   "cell_type": "code",
   "execution_count": 67,
   "metadata": {},
   "outputs": [
    {
     "output_type": "execute_result",
     "data": {
      "text/plain": "Counter({0: 9952, 2: 28, 1: 20})"
     },
     "metadata": {},
     "execution_count": 67
    }
   ],
   "source": [
    "counter(cheryls_birthday, k=6)"
   ]
  },
  {
   "cell_type": "code",
   "execution_count": 68,
   "metadata": {},
   "outputs": [
    {
     "output_type": "execute_result",
     "data": {
      "text/plain": "Counter({0: 7551, 2: 1065, 1: 1345, 3: 39})"
     },
     "metadata": {},
     "execution_count": 68
    }
   ],
   "source": [
    "counter(cheryls_birthday, k=12)"
   ]
  },
  {
   "cell_type": "markdown",
   "metadata": {},
   "source": [
    "It is really hard (but not impossible) to find a set of 6 dates that work for the puzzle, and much easier to find a solution with 12 dates."
   ]
  },
  {
   "cell_type": "markdown",
   "metadata": {},
   "source": [
    "# A New Puzzle: All About Eve"
   ]
  },
  {
   "cell_type": "markdown",
   "metadata": {},
   "source": [
    "Now let's see if we can create a more complicated puzzle. We'll introduce a new character, Eve, give her a statement, and alter the rest of the puzzle slightly:\n",
    "\n",
    "> *Albert and Bernard just became friends with Cheryl, and they want to know when her birthday is. Cheryl wrote down a list of 10 possible dates for all to see.*\n",
    "    \n",
    "> *Cheryl then writes down the month and shows it just to Albert, and also writes down the day and shows it just to Bernard.*\n",
    "\n",
    "> **Albert**: *I don't know when Cheryl's birthday is, but I know that Bernard does not know either.*\n",
    "\n",
    "> **Bernard**: *At first I didn't know when Cheryl's birthday is, but I know now.*\n",
    "    \n",
    "> **Albert**: *Then I also know when Cheryl's birthday is.*\n",
    "\n",
    "> **Eve**: *Hi, my name is Eve and I'm an evesdropper. It's what I do! I peeked and saw the first letter of the month and the first digit of the day. When I peeked, I didn't know Cheryl's birthday, but after listening to Albert and Bernard I do.  And it's a good thing I peeked, because otherwise I couldn't have\n",
    "figured it out.*\n",
    "    \n",
    "> *So when is Cheryl's birthday?*\n",
    "\n",
    "We can easily code this up:"
   ]
  },
  {
   "cell_type": "code",
   "execution_count": 69,
   "metadata": {},
   "outputs": [],
   "source": [
    "def cheryls_birthday_with_eve(dates):\n",
    "    \"Return a set of the dates for which Albert, Bernard, and Eve's statements are true.\"\n",
    "    return hear(using(dates), albert1, bernard1, albert2, eve1)\n",
    "\n",
    "def eve1(date):\n",
    "    \"\"\"Eve: I peeked and saw the first letter of the month and the first digit of the day. \n",
    "    When I peeked, I didn't know Cheryl's birthday, but after listening to Albert and Bernard \n",
    "    I do. And it's a good thing I peeked, because otherwise I couldn't have figured it out.\"\"\"\n",
    "    at_first = tell(first(day(date)),hasdayfirst) & tell(first(month(date)),hasmonthfirst)\n",
    "    otherwise = tell('')\n",
    "    return (not know(at_first) and\n",
    "                know(hear(at_first, albert1, bernard1, albert2)) and\n",
    "            not know(hear(otherwise, albert1, bernard1, albert2)))\n",
    "\n",
    "def first(seq): return seq[0]\n",
    "\n",
    "def hasdayfirst(data,firstword): return day(data)[0]==firstword\n",
    "def hasmonthfirst(data,firstword): return month(data)[0]==firstword"
   ]
  },
  {
   "cell_type": "markdown",
   "metadata": {},
   "source": [
    "*Note*: I admit I \"cheated\" a bit here.  Remember that the function `tell`  tests for `(part in date)`.  For that to work for Eve, we have to make sure that the first letter is distinct from any other character in the date (it is&mdash;because only the first letter is uppercase) and that the first digit is distinct from any other character (it is&mdash;because in `some_dates` I carefully made sure that the first digit is always 1 or 2, and the second digit is never 1 or 2). Also note that `tell('')` denotes the hypothetical situation where Cheryl \"told\" Eve nothing.\n",
    "\n",
    "I have no idea if it is possible to find a set of dates that works for this puzzle. But I can try:"
   ]
  },
  {
   "cell_type": "code",
   "execution_count": 70,
   "metadata": {},
   "outputs": [],
   "source": [
    "aa=pick_dates(puzzle=cheryls_birthday_with_eve)"
   ]
  },
  {
   "cell_type": "code",
   "execution_count": 71,
   "metadata": {},
   "outputs": [
    {
     "output_type": "execute_result",
     "data": {
      "text/plain": "('March 18',\n {'April 15',\n  'April 28',\n  'July 28',\n  'June 15',\n  'June 27',\n  'March 15',\n  'March 18',\n  'March 27',\n  'May 18',\n  'May 29'})"
     },
     "metadata": {},
     "execution_count": 71
    }
   ],
   "source": [
    "aa"
   ]
  },
  {
   "cell_type": "code",
   "execution_count": 72,
   "metadata": {},
   "outputs": [
    {
     "output_type": "execute_result",
     "data": {
      "text/plain": "{'March 18'}"
     },
     "metadata": {},
     "execution_count": 72
    }
   ],
   "source": [
    "cheryls_birthday_with_eve(aa[1])"
   ]
  },
  {
   "cell_type": "code",
   "execution_count": 73,
   "metadata": {},
   "outputs": [
    {
     "output_type": "execute_result",
     "data": {
      "text/plain": "{'April 28', 'March 18'}"
     },
     "metadata": {},
     "execution_count": 73
    }
   ],
   "source": [
    "hear(using(aa[1]), albert1, bernard1, albert2)"
   ]
  },
  {
   "cell_type": "markdown",
   "metadata": {},
   "source": [
    "That was easy.  How often is a random sample of dates a solution to this puzzle?"
   ]
  },
  {
   "cell_type": "code",
   "execution_count": null,
   "metadata": {},
   "outputs": [],
   "source": []
  },
  {
   "cell_type": "code",
   "execution_count": 74,
   "metadata": {},
   "outputs": [
    {
     "output_type": "execute_result",
     "data": {
      "text/plain": "{'April 15',\n 'April 28',\n 'July 28',\n 'June 15',\n 'June 27',\n 'March 15',\n 'March 18',\n 'March 27',\n 'May 18',\n 'May 29'}"
     },
     "metadata": {},
     "execution_count": 74
    }
   ],
   "source": [
    "DATAS"
   ]
  },
  {
   "cell_type": "code",
   "execution_count": 75,
   "metadata": {},
   "outputs": [
    {
     "output_type": "execute_result",
     "data": {
      "text/plain": "Counter({0: 9390, 2: 306, 1: 304})"
     },
     "metadata": {},
     "execution_count": 75
    }
   ],
   "source": [
    "counter(cheryls_birthday_with_eve)"
   ]
  },
  {
   "cell_type": "markdown",
   "metadata": {},
   "source": [
    "counter(cheryls_birthday_with_eve)  \n",
    "Counter({0: 9492, 1: 258, 2: 250})"
   ]
  },
  {
   "cell_type": "markdown",
   "metadata": {},
   "source": [
    "About half as often as for the original puzzle."
   ]
  },
  {
   "cell_type": "markdown",
   "metadata": {},
   "source": [
    "# An Even More Complex Puzzle"
   ]
  },
  {
   "cell_type": "markdown",
   "metadata": {},
   "source": [
    "Let's make the puzzle even more complicated by making Albert wait one more time before he finally knows:\n",
    "\n",
    "> *Albert and Bernard just became friends with Cheryl, and they want to know when her birtxhday is. Cheryl wrote down a list of 10 possible dates for all to see.*\n",
    "    \n",
    "> *Cheryl then writes down the month and shows it just to Albert, and also writes down the day and shows it just to Bernard.*\n",
    "    \n",
    "> **Albert**: *I don't know when Cheryl's birthday is, but I know that Bernard does not know either.*\n",
    "    \n",
    "> **Bernard**: *At first I didn't know when Cheryl's birthday is, but I know now.*\n",
    "    \n",
    "> **Albert**: *I still don't know.*\n",
    "\n",
    "> **Eve**: *Hi, my name is Eve and I'm an evesdropper. It's what I do! I peeked and saw the first letter of the month and the first digit of the day. When I peeked, I didn't know Cheryl's birthday, but after listening to Albert and Bernard I do.  And it's a good thing I peeked, because otherwise I couldn't have figured it out.*\n",
    "\n",
    "> **Albert**: *OK, now I know.*\n",
    "    \n",
    "> *So when is Cheryl's birthday?*\n",
    "\n",
    "Let's be careful in coding this up; Albert's second statement is different; he has a new third statement; and Eve's statement uses the same words, but it now implicitly refers to a different statement by Albert. We'll use the names `albert2c`,  `eve1c`, and `albert3c` (`c` for \"complex\") to represent the new statements:"
   ]
  },
  {
   "cell_type": "code",
   "execution_count": 78,
   "metadata": {},
   "outputs": [],
   "source": [
    "def cheryls_birthday_complex(dates):\n",
    "    \"Return a set of the dates for which Albert, Bernard, and Eve's statements are true.\"\n",
    "    return hear(using(dates), albert1, bernard1, albert2c, eve1c, albert3c)\n",
    "\n",
    "def albert2c(date):\n",
    "    \"Albert: I still don't know.\"\n",
    "    return not know(hear(tell(month(date)), bernard1))\n",
    "\n",
    "def eve1c(date):\n",
    "    \"\"\"Eve: I peeked and saw the first letter of the month and the first digit of the day. \n",
    "    When I peeked, I didn't know Cheryl's birthday, but after listening to Albert and Bernard \n",
    "    I do. And it's a good thing I peeked, because otherwise I couldn't have figured it out.\"\"\"\n",
    "    at_first = tell(first(day(date)),hasdayfirst) & tell(first(month(date)),hasmonthfirst)\n",
    "    otherwise = tell('')\n",
    "    return (not know(at_first)\n",
    "            and know(hear(at_first, albert1, bernard1, albert2c)) and\n",
    "            not know(hear(otherwise, albert1, bernard1, albert2c)))\n",
    "\n",
    "def albert3c(date):\n",
    "    \"Albert: OK, now I know.\"\n",
    "    return know(hear(tell(month(date)), eve1c))\n",
    "\n",
    "def hasdayfirst(data,firstword): return day(data)[0]==firstword\n",
    "def hasmonthfirst(data,firstword): return month(data)[0]==firstword"
   ]
  },
  {
   "cell_type": "markdown",
   "metadata": {},
   "source": [
    "Again, I don't know if it is possible to find dates that works with this story, but I can try:"
   ]
  },
  {
   "cell_type": "code",
   "execution_count": 79,
   "metadata": {},
   "outputs": [
    {
     "output_type": "execute_result",
     "data": {
      "text/plain": "('May 26',\n {'July 18',\n  'June 15',\n  'June 19',\n  'June 26',\n  'March 18',\n  'March 19',\n  'March 25',\n  'May 18',\n  'May 19',\n  'May 26'})"
     },
     "metadata": {},
     "execution_count": 79
    }
   ],
   "source": [
    "pick_dates(puzzle=cheryls_birthday_complex)"
   ]
  },
  {
   "cell_type": "markdown",
   "metadata": {},
   "source": [
    "It worked!  Were we just lucky, or are there many sets of dates that work?"
   ]
  },
  {
   "cell_type": "code",
   "execution_count": 57,
   "metadata": {},
   "outputs": [
    {
     "output_type": "execute_result",
     "data": {
      "text/plain": "Counter({0: 9136, 1: 862, 2: 2})"
     },
     "metadata": {},
     "execution_count": 57
    }
   ],
   "source": [
    "counter(cheryls_birthday_complex)"
   ]
  },
  {
   "cell_type": "markdown",
   "metadata": {},
   "source": [
    "counter(cheryls_birthday_complex)  \n",
    "Counter({0: 9047, 1: 951, 2: 2})"
   ]
  },
  {
   "cell_type": "markdown",
   "metadata": {},
   "source": [
    "Interesting. It was actually easier to find dates that work for this story than for either of the other stories."
   ]
  },
  {
   "cell_type": "markdown",
   "metadata": {},
   "source": [
    "## Analyzing a Solution to the Complex Puzzle"
   ]
  },
  {
   "cell_type": "markdown",
   "metadata": {},
   "source": [
    "Now we will go through a solution step-by-step.  We'll use a set of dates selected in a previous run:"
   ]
  },
  {
   "cell_type": "code",
   "execution_count": 81,
   "metadata": {},
   "outputs": [
    {
     "output_type": "execute_result",
     "data": {
      "text/plain": "{'April 15',\n 'April 28',\n 'July 15',\n 'July 16',\n 'July 27',\n 'June 16',\n 'June 19',\n 'June 29',\n 'May 24',\n 'May 27'}"
     },
     "metadata": {},
     "execution_count": 81
    }
   ],
   "source": [
    "DATES = {\n",
    "  'April 28',\n",
    "  'July 27',\n",
    "  'June 19',\n",
    "  'June 16',\n",
    "  'July 15',\n",
    "  'April 15',\n",
    "  'June 29',\n",
    "  'July 16',\n",
    "  'May 24',\n",
    "  'May 27'}\n",
    "  \n",
    "using(DATES)"
   ]
  },
  {
   "cell_type": "markdown",
   "metadata": {},
   "source": [
    "Let's find the solution:"
   ]
  },
  {
   "cell_type": "code",
   "execution_count": 82,
   "metadata": {},
   "outputs": [
    {
     "output_type": "execute_result",
     "data": {
      "text/plain": "{'July 27'}"
     },
     "metadata": {},
     "execution_count": 82
    }
   ],
   "source": [
    "cheryls_birthday_complex(DATES)"
   ]
  },
  {
   "cell_type": "markdown",
   "metadata": {},
   "source": [
    "Now the first step is that Albert was told \"July\":"
   ]
  },
  {
   "cell_type": "code",
   "execution_count": 83,
   "metadata": {},
   "outputs": [
    {
     "output_type": "execute_result",
     "data": {
      "text/plain": "{'July 15', 'July 16', 'July 27'}"
     },
     "metadata": {},
     "execution_count": 83
    }
   ],
   "source": [
    "tell('July')"
   ]
  },
  {
   "cell_type": "markdown",
   "metadata": {},
   "source": [
    "And no matter which of these three dates is the actual birthday, Albert knows that Bernard would not know the birthday, because each of the days (15, 16, 27) appears twice in the list of possible dates."
   ]
  },
  {
   "cell_type": "code",
   "execution_count": 84,
   "metadata": {},
   "outputs": [
    {
     "output_type": "execute_result",
     "data": {
      "text/plain": "True"
     },
     "metadata": {},
     "execution_count": 84
    }
   ],
   "source": [
    "all(not know(tell(day(d)))\n",
    "    for d in tell('July'))"
   ]
  },
  {
   "cell_type": "markdown",
   "metadata": {},
   "source": [
    "Next, Bernard is told the day:"
   ]
  },
  {
   "cell_type": "code",
   "execution_count": 85,
   "metadata": {},
   "outputs": [
    {
     "output_type": "execute_result",
     "data": {
      "text/plain": "{'July 27', 'May 27'}"
     },
     "metadata": {},
     "execution_count": 85
    }
   ],
   "source": [
    "tell('27')"
   ]
  },
  {
   "cell_type": "markdown",
   "metadata": {},
   "source": [
    "There are two dates with a 27, so Bernard did not know then. But only one of these dates is still consistent after hearing Albert's statement:"
   ]
  },
  {
   "cell_type": "code",
   "execution_count": 86,
   "metadata": {},
   "outputs": [
    {
     "output_type": "execute_result",
     "data": {
      "text/plain": "{'July 27'}"
     },
     "metadata": {},
     "execution_count": 86
    }
   ],
   "source": [
    "hear(tell('27'), albert1)"
   ]
  },
  {
   "cell_type": "markdown",
   "metadata": {},
   "source": [
    "So after Albert's statement, Bernard knows. Poor Albert still doesn't know (after being told `'July'` and hearing Bernard's statement):"
   ]
  },
  {
   "cell_type": "code",
   "execution_count": 87,
   "metadata": {},
   "outputs": [
    {
     "output_type": "execute_result",
     "data": {
      "text/plain": "{'July 15', 'July 16', 'July 27'}"
     },
     "metadata": {},
     "execution_count": 87
    }
   ],
   "source": [
    "hear(tell('July'), bernard1)"
   ]
  },
  {
   "cell_type": "markdown",
   "metadata": {},
   "source": [
    "Then along comes Eve. She evesdrops the \"J\" and the \"2\":"
   ]
  },
  {
   "cell_type": "code",
   "execution_count": 88,
   "metadata": {},
   "outputs": [
    {
     "output_type": "execute_result",
     "data": {
      "text/plain": "{'July 27', 'June 29'}"
     },
     "metadata": {},
     "execution_count": 88
    }
   ],
   "source": [
    "tell('J',hasmonthfirst) & tell('2',hasdayfirst)"
   ]
  },
  {
   "cell_type": "markdown",
   "metadata": {},
   "source": [
    "Two dates, so Eve doesn't know yet. But only one of the dates works after hearing the three statements made by Albert and Bernard:"
   ]
  },
  {
   "cell_type": "code",
   "execution_count": 89,
   "metadata": {},
   "outputs": [
    {
     "output_type": "execute_result",
     "data": {
      "text/plain": "{'July 27'}"
     },
     "metadata": {},
     "execution_count": 89
    }
   ],
   "source": [
    "hear(tell('J') & tell('2'), albert1, bernard1, albert2c)"
   ]
  },
  {
   "cell_type": "markdown",
   "metadata": {},
   "source": [
    "But Eve wouldn't have known if she had been told nothing:"
   ]
  },
  {
   "cell_type": "code",
   "execution_count": 90,
   "metadata": {},
   "outputs": [
    {
     "output_type": "execute_result",
     "data": {
      "text/plain": "{'July 15', 'July 16', 'July 27'}"
     },
     "metadata": {},
     "execution_count": 90
    }
   ],
   "source": [
    "hear(tell(''), albert1, bernard1, albert2c)"
   ]
  },
  {
   "cell_type": "markdown",
   "metadata": {},
   "source": [
    "What about Albert?  After hearing Eve's statement he finally knows:"
   ]
  },
  {
   "cell_type": "code",
   "execution_count": 91,
   "metadata": {},
   "outputs": [
    {
     "output_type": "execute_result",
     "data": {
      "text/plain": "{'July 27'}"
     },
     "metadata": {},
     "execution_count": 91
    }
   ],
   "source": [
    "hear(tell('July'), eve1c)"
   ]
  },
  {
   "cell_type": "markdown",
   "metadata": {},
   "source": [
    "# Three Children\n",
    "\n",
    "Here's another puzzle:\n",
    "\n",
    "> *A parent has the following conversation with a friend:*\n",
    "\n",
    "> **Parent:** the product of my three childrens' ages is 36.\n",
    "\n",
    "> **Friend**: I don't know their ages.\n",
    "\n",
    "> **Parent**: The sum of their ages is the same as the number of people in this room.\n",
    "\n",
    "> **Friend**: I still don't know their ages.\n",
    "\n",
    "> **Parent**: The oldest one likes bananas.\n",
    "\n",
    "> **Friend**: Now I know their ages.\n",
    "\n",
    "Let's follow the same methodology to solve this puzzle. Except this time, we're not dealing with sets of possible dates, we're dealing with set of possible *states* of the world. We'll define a state as a tuple of 4 numbers: the ages of the three children (in increasing order), and the number of people in the room. (We'll limit the children's ages to be below 30 and the number of people in the room to be below 90.)"
   ]
  },
  {
   "cell_type": "code",
   "execution_count": 58,
   "metadata": {},
   "outputs": [
    {
     "output_type": "execute_result",
     "data": {
      "text/plain": "{(2, 2, 9, 13)}"
     },
     "metadata": {},
     "execution_count": 58
    }
   ],
   "source": [
    "N      = 30\n",
    "states = {(a, b, c, n) \n",
    "          for a in range(1, N)\n",
    "          for b in range(a, N)\n",
    "          for c in range(b, N) if a * b * c == 36\n",
    "          for n in range(2, 90)}\n",
    "\n",
    "def ages(state): return state[:-1]\n",
    "def room(state): return state[-1]\n",
    "\n",
    "def parent1(state): \n",
    "    \"The product of my three childrens' ages is 36.\"\n",
    "    a, b, c = ages(state)\n",
    "    return a * b * c == 36\n",
    "\n",
    "def friend1(state): \n",
    "    \"I don't know their ages.\"\n",
    "    return not know({ages(s) for s in hear(states, parent1)})\n",
    "\n",
    "def parent2(state):\n",
    "    \"The sum of their ages is the same as the number of people in this room.\"\n",
    "    return sum(ages(state)) == room(state)\n",
    "\n",
    "def friend2(state, possibilities=hear(states, parent1, friend1, parent2)): \n",
    "    \"I still don't know their ages.\"\n",
    "    # Given there are room(state) people in the room, I still don't know the ages.\n",
    "    return not know({ages(s) for s in possibilities if room(s) == room(state)})\n",
    "\n",
    "def parent3(state):\n",
    "    \"The oldest one likes bananas.\"\n",
    "    # I.e., there is an oldest one (and not twins of the same age)\n",
    "    a, b, c = ages(state)\n",
    "    return c > b\n",
    "\n",
    "def friend3(state, possibilities=hear(states, parent1, friend1, parent2, friend2, parent3)): \n",
    "    \"Now I know their ages.\"\n",
    "    return know({ages(s) for s in possibilities})\n",
    "\n",
    "def child_age_puzzle(states):\n",
    "    return hear(states, parent1, friend1, parent2, friend2, parent3, friend3)\n",
    "\n",
    "child_age_puzzle(states)"
   ]
  },
  {
   "cell_type": "markdown",
   "metadata": {},
   "source": [
    "The tricky part of this puzzle comes after the `parent2` statement:"
   ]
  },
  {
   "cell_type": "code",
   "execution_count": 33,
   "metadata": {},
   "outputs": [
    {
     "data": {
      "text/plain": [
       "{(1, 2, 18, 21),\n",
       " (1, 3, 12, 16),\n",
       " (1, 4, 9, 14),\n",
       " (1, 6, 6, 13),\n",
       " (2, 2, 9, 13),\n",
       " (2, 3, 6, 11),\n",
       " (3, 3, 4, 10)}"
      ]
     },
     "execution_count": 33,
     "metadata": {},
     "output_type": "execute_result"
    }
   ],
   "source": [
    "hear(states, parent1, friend1, parent2)"
   ]
  },
  {
   "cell_type": "markdown",
   "metadata": {},
   "source": [
    "We see that out of these 7 possibilities, if the number of people in the room (the last number in each tuple) \n",
    "were anything other than 13, then the friend (who can observe the number of people in the room) would know the ages. Since the `friend2` statement professes continued ignorance, it must be that the number of people in the room is 13. Then the `parent3` statement makes it clear that there can't be 6-year-old twins as the oldest children; it must be 2-year-old twins with an oldest age 9."
   ]
  },
  {
   "cell_type": "markdown",
   "metadata": {},
   "source": [
    "# Sum and Product Puzzle"
   ]
  },
  {
   "cell_type": "markdown",
   "metadata": {},
   "source": [
    "X and Y are two different whole numbers greater than 1. Their sum is no greater than 100, and Y is greater than X. S and P are two mathematicians (and consequently perfect logicians); S knows the sum X+Y and P knows the product X*Y. Both S and P know all the information in this paragraph.\n",
    "\n",
    "The following conversation occurs:\n",
    "\n",
    "- S says \"P does not know X and Y.\"\n",
    "- P says \"Now I know X and Y.\"\n",
    "- S says \"Now I also know X and Y!\"\n",
    "\n",
    "What are X and Y?\n"
   ]
  },
  {
   "cell_type": "code",
   "execution_count": 120,
   "metadata": {},
   "outputs": [
    {
     "output_type": "stream",
     "name": "stdout",
     "text": "Wall time: 15 ms\n"
    },
    {
     "output_type": "execute_result",
     "data": {
      "text/plain": "set()"
     },
     "metadata": {},
     "execution_count": 120
    }
   ],
   "source": [
    "%%time\n",
    "\n",
    "N      = 100\n",
    "states = {(x, y, x+y, x*y) \n",
    "          for x in range(2, N)\n",
    "          for y in range(x+1, N) if x+y <= 100}\n",
    "\n",
    "def sum_of(state): return state[2]\n",
    "def product_of(state): return state[3]\n",
    "\n",
    "def equal_sum(state,s): return sum_of(state) == s\n",
    "def equal_product(state,p): return product_of(state) == p\n",
    "\n",
    "def s1(state): \n",
    "    \"S says 'P does not know X and Y.'\"\n",
    "    after_being_told = tell(sum_of(state),equal_sum)\n",
    "    return all(not know(tell(product_of(d),equal_product)) for d in after_being_told)\n",
    "\n",
    "def p1(state): \n",
    "    \"P says 'Now I know X and Y.'\"\n",
    "    after_being_told = tell(product_of(state),equal_product)\n",
    "    return know(hear(after_being_told, s1))\n",
    "\n",
    "def s2(state):\n",
    "    \"S says 'Now I also know X and Y!'\"\n",
    "    after_being_told = tell(sum_of(state),equal_sum)\n",
    "    return know(hear(after_being_told,p1))\n",
    "\n",
    "def sum_product_puzzle(states):\n",
    "    return hear(using(states), s1, p1, s2)\n",
    "\n",
    "sum_product_puzzle(states)"
   ]
  },
  {
   "cell_type": "code",
   "execution_count": 108,
   "metadata": {},
   "outputs": [
    {
     "output_type": "stream",
     "name": "stdout",
     "text": "Wall time: 12 ms\n"
    },
    {
     "output_type": "execute_result",
     "data": {
      "text/plain": "set()"
     },
     "metadata": {},
     "execution_count": 108
    }
   ],
   "source": [
    "%%time\n",
    "sum_product_puzzle(states)"
   ]
  },
  {
   "cell_type": "code",
   "execution_count": 51,
   "metadata": {},
   "outputs": [
    {
     "output_type": "stream",
     "name": "stdout",
     "text": "Wall time: 34 ms\n"
    },
    {
     "output_type": "execute_result",
     "data": {
      "text/plain": "set()"
     },
     "metadata": {},
     "execution_count": 51
    }
   ],
   "source": [
    "%%time\n",
    "\n",
    "N      = 100\n",
    "states = {(x, y, x+y, x*y) \n",
    "          for x in range(2, N)\n",
    "          for y in range(x+1, N) if x+y <= 100}\n",
    "\n",
    "def sum_of(state): return state[2]\n",
    "def product_of(state): return state[3]\n",
    "\n",
    "def equal_sum(state,s): return sum_of(state) == s\n",
    "def equal_product(state,p): return product_of(state) == p\n",
    "\n",
    "def s1(state): \n",
    "    \"S says 'P does not know X and Y.'\"\n",
    "    after_being_told = tell(sum_of(state),equal_sum)\n",
    "    return all(not know(tell(product_of(d),equal_product)) for d in after_being_told)\n",
    "\n",
    "def p1(state): \n",
    "    \"P says 'Now I know X and Y.'\"\n",
    "    after_being_told = tell(product_of(state),equal_product)\n",
    "    return know(hear(after_being_told, s1))\n",
    "\n",
    "def s2(state,possibilities=hear(states, s1, p1)):\n",
    "    \"S says 'Now I also know X and Y!'\"\n",
    "    return know({x for x in possibilities if sum_of(state) == sum_of(x)})\n",
    "\n",
    "def sum_product_puzzle(states):\n",
    "    ls =hear(using(states), s1)\n",
    "    ls =hear(ls, p1)\n",
    "    ls =hear(ls, s2)\n",
    "    return ls\n",
    "\n",
    "sum_product_puzzle(states)"
   ]
  },
  {
   "cell_type": "code",
   "execution_count": null,
   "metadata": {},
   "outputs": [],
   "source": [
    "from operator import *\n",
    "DATAS={}\n",
    "BeliefSet = set\n",
    "\n",
    "def tell(part, op=contains) -> BeliefSet:\n",
    "    \"tells a part of DATAS to someone; acording justyfy op return a set of possible datas.\"\n",
    "    return {data for data in DATAS if op(data,part)}\n",
    "\n",
    "def know(beliefs) -> bool:\n",
    "    \"A person `knows` the answer if their belief set has only one possibility.\"\n",
    "    return len(beliefs) == 1\n",
    "\n",
    "def hear(items:set, *predicates) -> BeliefSet:\n",
    "    \"Return the subset of items that hear all the predicates.\"\n",
    "    return {item for item in items\n",
    "            if all(pred(item) for pred in predicates)}\n",
    "\n",
    "def using(datas):\n",
    "    \"init global variable DATAS.\"\n",
    "    global DATAS # This is necessary because `tell` looks at `DATES`\n",
    "    DATAS = datas\n",
    "    return datas"
   ]
  },
  {
   "cell_type": "code",
   "execution_count": 9,
   "metadata": {},
   "outputs": [
    {
     "output_type": "execute_result",
     "data": {
      "text/plain": "[(1, 2), (3, 4)]"
     },
     "metadata": {},
     "execution_count": 9
    }
   ],
   "source": [
    "a={(1,2),(3,4)}\n",
    "list(a)"
   ]
  },
  {
   "cell_type": "code",
   "execution_count": 43,
   "metadata": {},
   "outputs": [],
   "source": [
    "from operator import *\n",
    "DATAS = set()\n",
    "BeliefSet = set\n",
    "\n",
    "def tell(part,op=contains,items=DATAS) -> BeliefSet:\n",
    "    \"tells a part of DATAS to someone; acording justyfy op return a set of possible datas.\"\n",
    "    return set(filter(lambda x:op(x,part),list(items)))\n",
    "\n",
    "def know(beliefs) -> bool:\n",
    "    \"A person `knows` the answer if their belief set has only one possibility.\"\n",
    "    return len(beliefs) == 1\n",
    "\n",
    "def hear(items:set, *predicates) -> BeliefSet:\n",
    "    \"Return the subset of items that hear all the predicates.\"\n",
    "    for pred in predicates:\n",
    "        items = set(filter(pred,list(items)))\n",
    "    return items\n",
    "\n",
    "def using(datas):\n",
    "    \"init global variable DATAS.\"\n",
    "    global DATAS # This is necessary because `tell` looks at `DATES`\n",
    "    DATAS = datas\n",
    "    return datas"
   ]
  },
  {
   "cell_type": "code",
   "execution_count": 24,
   "metadata": {},
   "outputs": [],
   "source": [
    "f = filter(lambda x:equal_sum(x,100),list(DATAS))"
   ]
  },
  {
   "cell_type": "code",
   "execution_count": 44,
   "metadata": {},
   "outputs": [
    {
     "output_type": "stream",
     "name": "stdout",
     "text": "set()\n"
    }
   ],
   "source": [
    "print(tell(100,equal_sum))"
   ]
  },
  {
   "cell_type": "code",
   "execution_count": 48,
   "metadata": {},
   "outputs": [],
   "source": [
    "def f(part,op=contains,items=DATAS):\n",
    "  print(locals())#在函数内获取\n",
    "  print(items)"
   ]
  },
  {
   "cell_type": "code",
   "execution_count": 52,
   "metadata": {},
   "outputs": [
    {
     "output_type": "stream",
     "name": "stdout",
     "text": "{'part': 100, 'op': <built-in function contains>, 'items': set()}\nset()\n"
    }
   ],
   "source": [
    "f(100)"
   ]
  },
  {
   "cell_type": "code",
   "execution_count": 99,
   "metadata": {},
   "outputs": [
    {
     "output_type": "stream",
     "name": "stdout",
     "text": "Wall time: 21.7 s\n"
    },
    {
     "output_type": "execute_result",
     "data": {
      "text/plain": "{(4, 13, 17, 52)}"
     },
     "metadata": {},
     "execution_count": 99
    }
   ],
   "source": [
    "def sum_product_puzzle(states):\n",
    "%%time\n",
    "    ls =hear(using(states), s1)\n",
    "    ls =hear(ls, p1)\n",
    "    ls =hear(ls, s2)\n",
    "    return ls\n",
    "\n",
    "sum_product_puzzle(states)"
   ]
  },
  {
   "cell_type": "code",
   "execution_count": 110,
   "metadata": {},
   "outputs": [
    {
     "output_type": "stream",
     "name": "stdout",
     "text": "Wall time: 5 ms\nWall time: 8 ms\nWall time: 0 ns\n"
    }
   ],
   "source": [
    "%time ls1 =hear(using(states), s1)\n",
    "%time ls2 =hear(ls1, p1)\n",
    "%time ls3 =hear(ls2, s2)"
   ]
  },
  {
   "cell_type": "code",
   "execution_count": 122,
   "metadata": {},
   "outputs": [],
   "source": [
    "N      = 100\n",
    "states = {(x, y, x+y, x*y) \n",
    "          for x in range(2, N)\n",
    "          for y in range(x+1, N) if x+y <= 100}"
   ]
  },
  {
   "cell_type": "code",
   "execution_count": 11,
   "metadata": {
    "tags": [
     "outputPrepend"
    ]
   },
   "outputs": [
    {
     "output_type": "execute_result",
     "data": {
      "text/plain": "set()"
     },
     "metadata": {},
     "execution_count": 11
    }
   ],
   "source": [
    "tell(99,equal_sum)"
   ]
  },
  {
   "cell_type": "code",
   "execution_count": 129,
   "metadata": {},
   "outputs": [
    {
     "output_type": "execute_result",
     "data": {
      "text/plain": "set()"
     },
     "metadata": {},
     "execution_count": 129
    }
   ],
   "source": [
    "using(ls2)\n",
    "tell(sum_of((4, 13, 17, 52)),equal_sum)"
   ]
  },
  {
   "cell_type": "code",
   "execution_count": 71,
   "metadata": {},
   "outputs": [
    {
     "output_type": "execute_result",
     "data": {
      "text/plain": "86"
     },
     "metadata": {},
     "execution_count": 71
    }
   ],
   "source": [
    "len(ls1)"
   ]
  },
  {
   "cell_type": "code",
   "execution_count": 72,
   "metadata": {},
   "outputs": [
    {
     "output_type": "execute_result",
     "data": {
      "text/plain": "86"
     },
     "metadata": {},
     "execution_count": 72
    }
   ],
   "source": [
    "len(ls2)"
   ]
  },
  {
   "cell_type": "code",
   "execution_count": 33,
   "metadata": {},
   "outputs": [],
   "source": [
    "from collections import Counter\n",
    "\n",
    "N      = 100\n",
    "states1 = {(x, y) \n",
    "          for x in range(2, N)\n",
    "          for y in range(x+1, N) if x+y <= 100}\n",
    "s_c=Counter((sum_of(s) for s in states1))\n",
    "states2 = set(filter(lambda x:s_c[sum_of(x)] != 1,states1))\n",
    "p_c=Counter((product_of(s) for s in states2))\n",
    "states = set(filter(lambda x:p_c[product_of(x)] != 1,states2))\n",
    "\n",
    "\n",
    "def sum_of(state): return state[0]+state[1]\n",
    "def product_of(state): return state[0]*state[1]\n"
   ]
  },
  {
   "cell_type": "code",
   "execution_count": 34,
   "metadata": {},
   "outputs": [
    {
     "output_type": "execute_result",
     "data": {
      "text/plain": "(2352, 2350, 1747)"
     },
     "metadata": {},
     "execution_count": 34
    }
   ],
   "source": [
    "len(states1),len(states2),len(states)"
   ]
  },
  {
   "cell_type": "code",
   "execution_count": null,
   "metadata": {},
   "outputs": [],
   "source": [
    "hear(using(states), s1)"
   ]
  },
  {
   "cell_type": "code",
   "execution_count": 82,
   "metadata": {},
   "outputs": [
    {
     "output_type": "stream",
     "name": "stdout",
     "text": "Wall time: 0 ns\n[(4, 13)]\n"
    }
   ],
   "source": [
    "%time\n",
    "from collections import Counter\n",
    " \n",
    "def decompose_sum(s):\n",
    "    return [(a,s-a) for a in range(2,int(s/2+1))]\n",
    " \n",
    "# Generate all possible pairs\n",
    "all_pairs = set((a,b) for a in range(2,100) for b in range(a+1,100) if a+b<100)\n",
    " \n",
    "# Fact 1 --> Select pairs for which all sum decompositions have non-unique product\n",
    "product_counts = Counter(c*d for c,d in all_pairs)\n",
    "unique_products = set((a,b) for a,b in all_pairs if product_counts[a*b]==1)\n",
    "s_pairs = [(a,b) for a,b in all_pairs if\n",
    "    all((x,y) not in unique_products for (x,y) in decompose_sum(a+b))]\n",
    " \n",
    "# Fact 2 --> Select pairs for which the product is unique\n",
    "product_counts = Counter(c*d for c,d in s_pairs)\n",
    "p_pairs = [(a,b) for a,b in s_pairs if product_counts[a*b]==1]\n",
    " \n",
    "# Fact 3 --> Select pairs for which the sum is unique\n",
    "sum_counts = Counter(c+d for c,d in p_pairs)\n",
    "final_pairs = [(a,b) for a,b in p_pairs if sum_counts[a+b]==1]\n",
    " \n",
    "print(final_pairs)"
   ]
  },
  {
   "cell_type": "code",
   "execution_count": null,
   "metadata": {},
   "outputs": [],
   "source": []
  }
 ],
 "metadata": {
  "kernelspec": {
   "display_name": "Python 3",
   "language": "python",
   "name": "python3"
  },
  "language_info": {
   "codemirror_mode": {
    "name": "ipython",
    "version": 3
   },
   "file_extension": ".py",
   "mimetype": "text/x-python",
   "name": "python",
   "nbconvert_exporter": "python",
   "pygments_lexer": "ipython3",
   "version": "3.7.4-final"
  }
 },
 "nbformat": 4,
 "nbformat_minor": 1
}