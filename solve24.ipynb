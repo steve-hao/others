{
 "nbformat": 4,
 "nbformat_minor": 2,
 "metadata": {
  "language_info": {
   "name": "python",
   "codemirror_mode": {
    "name": "ipython",
    "version": 3
   },
   "version": "3.7.4-final"
  },
  "orig_nbformat": 2,
  "file_extension": ".py",
  "mimetype": "text/x-python",
  "name": "python",
  "npconvert_exporter": "python",
  "pygments_lexer": "ipython3",
  "version": 3,
  "kernelspec": {
   "name": "python3",
   "display_name": "Python 3"
  }
 },
 "cells": [
  {
   "cell_type": "code",
   "execution_count": 9,
   "metadata": {},
   "outputs": [],
   "source": [
    "import operator\n",
    "from itertools import product, permutations,combinations\n",
    " \n",
    "def mydiv(n, d):\n",
    "    return n / d if d != 0 else 9999999\n",
    " \n",
    "syms = [operator.add, operator.sub, operator.mul, mydiv]\n",
    "op = {sym: ch for sym, ch in zip(syms, '+-*/')}\n",
    " \n",
    "def solve24(nums):\n",
    "    for x, y, z in product(syms, repeat=3):\n",
    "        for a, b, c, d in permutations(nums):\n",
    "            if round(x(y(a,b),z(c,d)),5) == 24:\n",
    "                return f\"({a} {op[y]} {b}) {op[x]} ({c} {op[z]} {d})\"\n",
    "            elif round(x(a,y(b,z(c,d))),5) == 24:\n",
    "                return f\"{a} {op[x]} ({b} {op[y]} ({c} {op[z]} {d}))\"\n",
    "            elif round(x(y(z(c,d),b),a),5) == 24:\n",
    "                return f\"(({c} {op[z]} {d}) {op[y]} {b}) {op[x]} {a}\"\n",
    "            elif round(x(y(b,z(c,d)),a),5) == 24:\n",
    "                return f\"({b} {op[y]} ({c} {op[z]} {d})) {op[x]} {a}\"\n",
    "    return '--Not Found--'"
   ]
  },
  {
   "cell_type": "code",
   "execution_count": 11,
   "metadata": {},
   "outputs": [
    {
     "output_type": "stream",
     "name": "stdout",
     "text": "('+', '+', '+')\n('+', '+', '-')\n('+', '+', '*')\n('+', '+', '/')\n('+', '-', '+')\n('+', '-', '-')\n('+', '-', '*')\n('+', '-', '/')\n('+', '*', '+')\n('+', '*', '-')\n('+', '*', '*')\n('+', '*', '/')\n('+', '/', '+')\n('+', '/', '-')\n('+', '/', '*')\n('+', '/', '/')\n('-', '+', '+')\n('-', '+', '-')\n('-', '+', '*')\n('-', '+', '/')\n('-', '-', '+')\n('-', '-', '-')\n('-', '-', '*')\n('-', '-', '/')\n('-', '*', '+')\n('-', '*', '-')\n('-', '*', '*')\n('-', '*', '/')\n('-', '/', '+')\n('-', '/', '-')\n('-', '/', '*')\n('-', '/', '/')\n('*', '+', '+')\n('*', '+', '-')\n('*', '+', '*')\n('*', '+', '/')\n('*', '-', '+')\n('*', '-', '-')\n('*', '-', '*')\n('*', '-', '/')\n('*', '*', '+')\n('*', '*', '-')\n('*', '*', '*')\n('*', '*', '/')\n('*', '/', '+')\n('*', '/', '-')\n('*', '/', '*')\n('*', '/', '/')\n('/', '+', '+')\n('/', '+', '-')\n('/', '+', '*')\n('/', '+', '/')\n('/', '-', '+')\n('/', '-', '-')\n('/', '-', '*')\n('/', '-', '/')\n('/', '*', '+')\n('/', '*', '-')\n('/', '*', '*')\n('/', '*', '/')\n('/', '/', '+')\n('/', '/', '-')\n('/', '/', '*')\n('/', '/', '/')\n"
    }
   ],
   "source": [
    "s=['+','-','*','/']\n",
    "for a in product(s,repeat=3): print(a)"
   ]
  },
  {
   "cell_type": "code",
   "execution_count": 3,
   "metadata": {},
   "outputs": [
    {
     "output_type": "stream",
     "name": "stdout",
     "text": "solve24([5, 5, 5, 1]) -> 5 * (5 - (1 / 5))\nsolve24([6, 4, 3, 1]) -> 6 / (1 - (3 / 4))\nsolve24([6, 5, 4, 1]) -> 4 / (1 - (5 / 6))\nsolve24([7, 7, 3, 3]) -> 7 * (3 + (3 / 7))\nsolve24([7, 7, 4, 4]) -> 7 * (4 - (4 / 7))\nsolve24([8, 6, 6, 1]) -> 6 / (1 - (6 / 8))\nsolve24([8, 8, 3, 3]) -> 8 / (3 - (8 / 3))\nsolve24([10, 5, 5, 2]) -> 5 * (5 - (2 / 10))\nsolve24([10, 7, 7, 2]) -> 7 * (2 + (10 / 7))\nsolve24([10, 10, 4, 2]) -> 10 * (2 + (4 / 10))\nsolve24([11, 7, 5, 5]) -> 5 * (7 - (11 / 5))\nsolve24([11, 7, 7, 5]) -> 7 * (5 - (11 / 7))\nsolve24([11, 11, 2, 2]) -> 11 * (2 + (2 / 11))\nsolve24([12, 5, 3, 2]) -> 12 / (3 - (5 / 2))\nsolve24([13, 13, 2, 2]) -> 13 * (2 - (2 / 13))\n"
    }
   ],
   "source": [
    " for nums in [\n",
    "        [5,5,5,1],\n",
    "        [6,4,3,1],\n",
    "        [6,5,4,1],\n",
    "        [7,7,3,3],\n",
    "        [7,7,4,4],\n",
    "        [8,6,6,1],\n",
    "        [8,8,3,3],\n",
    "        [10,5,5,2],\n",
    "        [10,7,7,2],\n",
    "        [10,10,4,2],\n",
    "        [11,7,5,5],\n",
    "        [11,7,7,5],\n",
    "        [11,11,2,2],\n",
    "        [12,5,3,2],\n",
    "        [13,13,2,2],\n",
    "            ]:\n",
    "        print(f\"solve24({nums}) -> {solve24(nums)}\")"
   ]
  },
  {
   "cell_type": "code",
   "execution_count": null,
   "metadata": {},
   "outputs": [],
   "source": []
  }
 ]
}