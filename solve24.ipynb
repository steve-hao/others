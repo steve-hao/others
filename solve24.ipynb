{
 "nbformat": 4,
 "nbformat_minor": 2,
 "metadata": {
  "language_info": {
   "name": "python",
   "codemirror_mode": {
    "name": "ipython",
    "version": 3
   },
   "version": "3.7.4-final"
  },
  "orig_nbformat": 2,
  "file_extension": ".py",
  "mimetype": "text/x-python",
  "name": "python",
  "npconvert_exporter": "python",
  "pygments_lexer": "ipython3",
  "version": 3,
  "kernelspec": {
   "name": "python3",
   "display_name": "Python 3"
  }
 },
 "cells": [
  {
   "cell_type": "code",
   "execution_count": 39,
   "metadata": {},
   "outputs": [],
   "source": [
    "import operator\n",
    "from itertools import product, permutations,combinations,combinations_with_replacement\n",
    " \n",
    "def mydiv(n, d):\n",
    "    return n / d if d != 0 else 9999999\n",
    " \n",
    "syms = [operator.add, operator.sub, operator.mul, mydiv]\n",
    "op = {sym: ch for sym, ch in zip(syms, '+-*/')}\n",
    " \n",
    "def solve24(nums):\n",
    "    for x, y, z in product(syms, repeat=3):\n",
    "        for a, b, c, d in permutations(nums):\n",
    "            if round(x(y(a,b),z(c,d)),5) == 24:\n",
    "                return f\"({a} {op[y]} {b}) {op[x]} ({c} {op[z]} {d})\"\n",
    "            elif round(x(y(z(c,d),b),a),5) == 24:\n",
    "                return f\"(({c} {op[z]} {d}) {op[y]} {b}) {op[x]} {a}\"\n",
    "            elif round(x(y(b,z(c,d)),a),5) == 24:\n",
    "                return f\"({b} {op[y]} ({c} {op[z]} {d})) {op[x]} {a}\"\n",
    "            elif round(x(a,y(b,z(c,d))),5) == 24:\n",
    "                return f\"{a} {op[x]} ({b} {op[y]} ({c} {op[z]} {d}))\"\n",
    "            elif round(x(a,y(z(c,d),b)),5) == 24:\n",
    "                print(f\"{a} {op[x]} (({c} {op[z]} {d}) {op[y]} {b})\")\n",
    "                return f\"{a} {op[x]} (({c} {op[z]} {d}) {op[y]} {b})\"  \n",
    "    return False"
   ]
  },
  {
   "cell_type": "code",
   "execution_count": 38,
   "metadata": {},
   "outputs": [
    {
     "output_type": "execute_result",
     "data": {
      "text/plain": "'4 / (1 - (5 / 6))'"
     },
     "metadata": {},
     "execution_count": 38
    }
   ],
   "source": [
    "solve24([6,5,4,1])"
   ]
  },
  {
   "cell_type": "code",
   "execution_count": 2,
   "metadata": {},
   "outputs": [
    {
     "output_type": "stream",
     "name": "stdout",
     "text": "(1, 1, 1)\n(1, 1, 2)\n(1, 2, 1)\n(1, 2, 2)\n(2, 1, 1)\n(2, 1, 2)\n(2, 2, 1)\n(2, 2, 2)\n"
    }
   ],
   "source": [
    "for a in product(range(1,3),repeat=3): print(a)"
   ]
  },
  {
   "cell_type": "code",
   "execution_count": 11,
   "metadata": {},
   "outputs": [
    {
     "output_type": "stream",
     "name": "stdout",
     "text": "('+', '+', '+')\n('+', '+', '-')\n('+', '+', '*')\n('+', '+', '/')\n('+', '-', '+')\n('+', '-', '-')\n('+', '-', '*')\n('+', '-', '/')\n('+', '*', '+')\n('+', '*', '-')\n('+', '*', '*')\n('+', '*', '/')\n('+', '/', '+')\n('+', '/', '-')\n('+', '/', '*')\n('+', '/', '/')\n('-', '+', '+')\n('-', '+', '-')\n('-', '+', '*')\n('-', '+', '/')\n('-', '-', '+')\n('-', '-', '-')\n('-', '-', '*')\n('-', '-', '/')\n('-', '*', '+')\n('-', '*', '-')\n('-', '*', '*')\n('-', '*', '/')\n('-', '/', '+')\n('-', '/', '-')\n('-', '/', '*')\n('-', '/', '/')\n('*', '+', '+')\n('*', '+', '-')\n('*', '+', '*')\n('*', '+', '/')\n('*', '-', '+')\n('*', '-', '-')\n('*', '-', '*')\n('*', '-', '/')\n('*', '*', '+')\n('*', '*', '-')\n('*', '*', '*')\n('*', '*', '/')\n('*', '/', '+')\n('*', '/', '-')\n('*', '/', '*')\n('*', '/', '/')\n('/', '+', '+')\n('/', '+', '-')\n('/', '+', '*')\n('/', '+', '/')\n('/', '-', '+')\n('/', '-', '-')\n('/', '-', '*')\n('/', '-', '/')\n('/', '*', '+')\n('/', '*', '-')\n('/', '*', '*')\n('/', '*', '/')\n('/', '/', '+')\n('/', '/', '-')\n('/', '/', '*')\n('/', '/', '/')\n"
    }
   ],
   "source": [
    "s=['+','-','*','/']\n",
    "for a in product(s,repeat=3): print(a)"
   ]
  },
  {
   "cell_type": "code",
   "execution_count": 3,
   "metadata": {},
   "outputs": [
    {
     "output_type": "stream",
     "name": "stdout",
     "text": "solve24([5, 5, 5, 1]) -> 5 * (5 - (1 / 5))\nsolve24([6, 4, 3, 1]) -> 6 / (1 - (3 / 4))\nsolve24([6, 5, 4, 1]) -> 4 / (1 - (5 / 6))\nsolve24([7, 7, 3, 3]) -> 7 * (3 + (3 / 7))\nsolve24([7, 7, 4, 4]) -> 7 * (4 - (4 / 7))\nsolve24([8, 6, 6, 1]) -> 6 / (1 - (6 / 8))\nsolve24([8, 8, 3, 3]) -> 8 / (3 - (8 / 3))\nsolve24([10, 5, 5, 2]) -> 5 * (5 - (2 / 10))\nsolve24([10, 7, 7, 2]) -> 7 * (2 + (10 / 7))\nsolve24([10, 10, 4, 2]) -> 10 * (2 + (4 / 10))\nsolve24([11, 7, 5, 5]) -> 5 * (7 - (11 / 5))\nsolve24([11, 7, 7, 5]) -> 7 * (5 - (11 / 7))\nsolve24([11, 11, 2, 2]) -> 11 * (2 + (2 / 11))\nsolve24([12, 5, 3, 2]) -> 12 / (3 - (5 / 2))\nsolve24([13, 13, 2, 2]) -> 13 * (2 - (2 / 13))\n"
    }
   ],
   "source": [
    " for nums in [\n",
    "        [5,5,5,1],\n",
    "        [6,4,3,1],\n",
    "        [6,5,4,1],\n",
    "        [7,7,3,3],\n",
    "        [7,7,4,4],\n",
    "        [8,6,6,1],\n",
    "        [8,8,3,3],\n",
    "        [10,5,5,2],\n",
    "        [10,7,7,2],\n",
    "        [10,10,4,2],\n",
    "        [11,7,5,5],\n",
    "        [11,7,7,5],\n",
    "        [11,11,2,2],\n",
    "        [12,5,3,2],\n",
    "        [13,13,2,2],\n",
    "            ]:\n",
    "        print(f\"solve24({nums}) -> {solve24(nums)}\")"
   ]
  },
  {
   "cell_type": "code",
   "execution_count": 17,
   "metadata": {},
   "outputs": [
    {
     "output_type": "stream",
     "name": "stdout",
     "text": "(1, 1, 1, 1)\n(1, 1, 1, 2)\n(1, 1, 1, 3)\n(1, 1, 1, 4)\n(1, 1, 1, 5)\n(1, 1, 1, 6)\n(1, 1, 1, 7)\n(1, 1, 1, 9)\n(1, 1, 1, 10)\n(1, 1, 2, 2)\n(1, 1, 2, 3)\n(1, 1, 2, 4)\n(1, 1, 2, 5)\n(1, 1, 3, 3)\n(1, 1, 5, 9)\n(1, 1, 5, 10)\n(1, 1, 6, 7)\n(1, 1, 6, 10)\n(1, 1, 7, 7)\n(1, 1, 7, 8)\n(1, 1, 7, 9)\n(1, 1, 8, 9)\n(1, 1, 8, 10)\n(1, 1, 9, 9)\n(1, 1, 9, 10)\n(1, 1, 10, 10)\n(1, 2, 2, 2)\n(1, 2, 2, 3)\n(1, 2, 9, 9)\n(1, 2, 9, 10)\n(1, 2, 10, 10)\n(1, 3, 5, 5)\n(1, 4, 7, 10)\n(1, 4, 8, 10)\n(1, 4, 9, 9)\n(1, 5, 5, 7)\n(1, 5, 5, 8)\n(1, 5, 7, 7)\n(1, 6, 6, 7)\n(1, 6, 7, 7)\n(1, 6, 7, 8)\n(1, 6, 10, 10)\n(1, 7, 7, 7)\n(1, 7, 7, 8)\n(1, 7, 10, 10)\n(1, 8, 9, 9)\n(1, 8, 9, 10)\n(1, 8, 10, 10)\n(1, 9, 9, 9)\n(1, 9, 9, 10)\n(1, 9, 10, 10)\n(1, 10, 10, 10)\n(2, 2, 2, 2)\n(2, 2, 2, 6)\n(2, 2, 7, 9)\n(2, 2, 9, 9)\n(2, 3, 3, 4)\n(2, 5, 5, 5)\n(2, 5, 5, 6)\n(2, 5, 9, 9)\n(2, 6, 7, 7)\n(2, 7, 7, 7)\n(2, 7, 7, 9)\n(2, 7, 8, 10)\n(2, 7, 9, 9)\n(2, 9, 9, 9)\n(2, 9, 9, 10)\n(2, 10, 10, 10)\n(3, 3, 4, 10)\n(3, 3, 5, 8)\n(3, 3, 7, 10)\n(3, 3, 10, 10)\n(3, 4, 6, 7)\n(3, 4, 8, 8)\n(3, 4, 9, 10)\n(3, 5, 5, 5)\n(3, 5, 5, 10)\n(3, 5, 7, 7)\n(3, 5, 8, 10)\n(3, 7, 8, 10)\n(3, 10, 10, 10)\n(4, 4, 5, 9)\n(4, 4, 6, 6)\n(4, 4, 6, 7)\n(4, 4, 9, 9)\n(4, 4, 9, 10)\n(4, 7, 7, 9)\n(4, 7, 7, 10)\n(4, 9, 9, 9)\n(4, 9, 10, 10)\n(4, 10, 10, 10)\n(5, 5, 5, 7)\n(5, 5, 5, 8)\n(5, 5, 5, 10)\n(5, 5, 6, 9)\n(5, 5, 6, 10)\n(5, 5, 7, 9)\n(5, 6, 7, 10)\n(5, 7, 7, 7)\n(5, 7, 7, 8)\n(5, 7, 9, 9)\n(5, 8, 9, 9)\n(5, 8, 9, 10)\n(5, 8, 10, 10)\n(5, 9, 9, 9)\n(5, 9, 9, 10)\n(5, 10, 10, 10)\n(6, 6, 6, 7)\n(6, 6, 7, 7)\n(6, 6, 7, 8)\n(6, 6, 9, 9)\n(6, 6, 10, 10)\n(6, 7, 7, 7)\n(6, 7, 7, 8)\n(6, 7, 7, 9)\n(6, 7, 8, 8)\n(6, 7, 9, 10)\n(6, 8, 10, 10)\n(6, 9, 9, 9)\n(6, 9, 10, 10)\n(7, 7, 7, 7)\n(7, 7, 7, 8)\n(7, 7, 7, 9)\n(7, 7, 7, 10)\n(7, 7, 8, 8)\n(7, 7, 8, 9)\n(7, 7, 8, 10)\n(7, 7, 9, 9)\n(7, 7, 10, 10)\n(7, 8, 8, 8)\n(7, 8, 9, 9)\n(7, 9, 9, 9)\n(7, 9, 9, 10)\n(7, 9, 10, 10)\n(7, 10, 10, 10)\n(8, 8, 8, 8)\n(8, 8, 8, 9)\n(8, 8, 9, 9)\n(8, 8, 9, 10)\n(8, 8, 10, 10)\n(8, 9, 9, 9)\n(8, 9, 9, 10)\n(8, 9, 10, 10)\n(8, 10, 10, 10)\n(9, 9, 9, 9)\n(9, 9, 9, 10)\n(9, 9, 10, 10)\n(9, 10, 10, 10)\n(10, 10, 10, 10)\n"
    },
    {
     "output_type": "execute_result",
     "data": {
      "text/plain": "149"
     },
     "metadata": {},
     "execution_count": 17
    }
   ],
   "source": [
    "to,tf =0,0\n",
    "for a in combinations_with_replacement(range(1,11),4):\n",
    "    if not solve24(a):\n",
    "        tf += 1\n",
    "        print(a)\n",
    "tf"
   ]
  },
  {
   "cell_type": "code",
   "execution_count": 4,
   "metadata": {},
   "outputs": [
    {
     "output_type": "execute_result",
     "data": {
      "text/plain": "(8558, 1442)"
     },
     "metadata": {},
     "execution_count": 4
    }
   ],
   "source": [
    "to,tf"
   ]
  },
  {
   "cell_type": "code",
   "execution_count": 18,
   "metadata": {},
   "outputs": [
    {
     "output_type": "stream",
     "name": "stdout",
     "text": "53004 217721 0.19578539107950874\n"
    }
   ],
   "source": [
    "to,tf =0,0\n",
    "s = list(range(1,14))*4\n",
    "for a in combinations(s,4):\n",
    "    if solve24(a):\n",
    "        to += 1\n",
    "    else:\n",
    "        tf += 1\n",
    "print(tf,to,tf/(to+tf))"
   ]
  },
  {
   "cell_type": "code",
   "execution_count": 19,
   "metadata": {},
   "outputs": [],
   "source": [
    "from collections import Counter\n",
    "s = list(range(1,11))*4\n",
    "c = Counter(bool(solve24(a)) for a in combinations(s,4))\n",
    ""
   ]
  },
  {
   "cell_type": "code",
   "execution_count": 23,
   "metadata": {},
   "outputs": [
    {
     "output_type": "execute_result",
     "data": {
      "text/plain": "0.12533099901520955"
     },
     "metadata": {},
     "execution_count": 23
    }
   ],
   "source": [
    "c[False]/(c[True]+c[False])"
   ]
  },
  {
   "cell_type": "code",
   "execution_count": 40,
   "metadata": {
    "tags": [
     "outputPrepend",
     "outputPrepend",
     "outputPrepend",
     "outputPrepend",
     "outputPrepend",
     "outputPrepend",
     "outputPrepend",
     "outputPrepend",
     "outputPrepend",
     "outputPrepend",
     "outputPrepend",
     "outputPrepend",
     "outputPrepend",
     "outputPrepend",
     "outputPrepend",
     "outputPrepend",
     "outputPrepend",
     "outputPrepend",
     "outputPrepend",
     "outputPrepend",
     "outputPrepend",
     "outputPrepend",
     "outputPrepend",
     "outputPrepend",
     "outputPrepend",
     "outputPrepend",
     "outputPrepend",
     "outputPrepend",
     "outputPrepend",
     "outputPrepend",
     "outputPrepend",
     "outputPrepend",
     "outputPrepend",
     "outputPrepend",
     "outputPrepend",
     "outputPrepend",
     "outputPrepend",
     "outputPrepend",
     "outputPrepend",
     "outputPrepend",
     "outputPrepend",
     "outputPrepend",
     "outputPrepend",
     "outputPrepend",
     "outputPrepend",
     "outputPrepend",
     "outputPrepend"
    ]
   },
   "outputs": [
    {
     "output_type": "stream",
     "name": "stdout",
     "text": "6 / ((5 / 4) - 1)\n6 / ((5 / 4) - 1)\n6 / ((5 / 4) - 1)\n6 / ((5 / 4) - 1)\n6 / ((5 / 4) - 1)\n6 / ((5 / 4) - 1)\n6 / ((5 / 4) - 1)\n6 / ((5 / 4) - 1)\n6 / ((5 / 4) - 1)\n6 / ((5 / 4) - 1)\n6 / ((5 / 4) - 1)\n6 / ((5 / 4) - 1)\n6 / ((5 / 4) - 1)\n6 / ((5 / 4) - 1)\n6 / ((5 / 4) - 1)\n12 / ((12 / 8) - 1)\n12 / ((12 / 8) - 1)\n12 / ((12 / 8) - 1)\n12 / ((12 / 8) - 1)\n12 / ((12 / 8) - 1)\n12 / ((12 / 8) - 1)\n12 / ((12 / 8) - 1)\n12 / ((12 / 8) - 1)\n12 / ((12 / 8) - 1)\n12 / ((12 / 8) - 1)\n12 / ((12 / 8) - 1)\n12 / ((12 / 8) - 1)\n12 / ((12 / 8) - 1)\n12 / ((12 / 8) - 1)\n12 / ((12 / 8) - 1)\n6 / ((5 / 4) - 1)\n6 / ((5 / 4) - 1)\n6 / ((5 / 4) - 1)\n6 / ((5 / 4) - 1)\n6 / ((5 / 4) - 1)\n6 / ((5 / 4) - 1)\n6 / ((5 / 4) - 1)\n12 / ((12 / 8) - 1)\n12 / ((12 / 8) - 1)\n12 / ((12 / 8) - 1)\n12 / ((12 / 8) - 1)\n12 / ((12 / 8) - 1)\n12 / ((12 / 8) - 1)\n12 / ((12 / 8) - 1)\n6 / ((5 / 4) - 1)\n6 / ((5 / 4) - 1)\n12 / ((12 / 8) - 1)\n12 / ((12 / 8) - 1)\n6 / ((5 / 4) - 1)\n6 / ((5 / 4) - 1)\n6 / ((5 / 4) - 1)\n6 / ((5 / 4) - 1)\n6 / ((5 / 4) - 1)\n6 / ((5 / 4) - 1)\n6 / ((5 / 4) - 1)\n6 / ((5 / 4) - 1)\n6 / ((5 / 4) - 1)\n6 / ((5 / 4) - 1)\n6 / ((5 / 4) - 1)\n6 / ((5 / 4) - 1)\n6 / ((5 / 4) - 1)\n6 / ((5 / 4) - 1)\n6 / ((5 / 4) - 1)\n6 / ((5 / 4) - 1)\n6 / ((5 / 4) - 1)\n6 / ((5 / 4) - 1)\n6 / ((5 / 4) - 1)\n6 / ((5 / 4) - 1)\n6 / ((5 / 4) - 1)\n6 / ((5 / 4) - 1)\n6 / ((5 / 4) - 1)\n6 / ((5 / 4) - 1)\n6 / ((5 / 4) - 1)\n6 / ((5 / 4) - 1)\n6 / ((5 / 4) - 1)\n6 / ((5 / 4) - 1)\n6 / ((5 / 4) - 1)\n6 / ((5 / 4) - 1)\n6 / ((5 / 4) - 1)\n6 / ((5 / 4) - 1)\n6 / ((5 / 4) - 1)\n6 / ((5 / 4) - 1)\n6 / ((5 / 4) - 1)\n6 / ((5 / 4) - 1)\n6 / ((5 / 4) - 1)\n6 / ((5 / 4) - 1)\n6 / ((5 / 4) - 1)\n6 / ((5 / 4) - 1)\n6 / ((5 / 4) - 1)\n6 / ((5 / 4) - 1)\n6 / ((5 / 4) - 1)\n6 / ((5 / 4) - 1)\n6 / ((5 / 4) - 1)\n12 / ((12 / 8) - 1)\n12 / ((12 / 8) - 1)\n12 / ((12 / 8) - 1)\n12 / ((12 / 8) - 1)\n12 / ((12 / 8) - 1)\n12 / ((12 / 8) - 1)\n12 / ((12 / 8) - 1)\n12 / ((12 / 8) - 1)\n12 / ((12 / 8) - 1)\n12 / ((12 / 8) - 1)\n12 / ((12 / 8) - 1)\n12 / ((12 / 8) - 1)\n12 / ((12 / 8) - 1)\n12 / ((12 / 8) - 1)\n12 / ((12 / 8) - 1)\n12 / ((12 / 8) - 1)\n12 / ((12 / 8) - 1)\n12 / ((12 / 8) - 1)\n12 / ((12 / 8) - 1)\n12 / ((12 / 8) - 1)\n12 / ((12 / 8) - 1)\n12 / ((12 / 8) - 1)\n12 / ((12 / 8) - 1)\n12 / ((12 / 8) - 1)\n12 / ((12 / 8) - 1)\n12 / ((12 / 8) - 1)\n12 / ((12 / 8) - 1)\n12 / ((12 / 8) - 1)\n12 / ((12 / 8) - 1)\n12 / ((12 / 8) - 1)\n12 / ((12 / 8) - 1)\n12 / ((12 / 8) - 1)\n12 / ((12 / 8) - 1)\n12 / ((12 / 8) - 1)\n12 / ((12 / 8) - 1)\n12 / ((12 / 8) - 1)\n12 / ((12 / 8) - 1)\n12 / ((12 / 8) - 1)\n12 / ((12 / 8) - 1)\n12 / ((12 / 8) - 1)\n12 / ((12 / 8) - 1)\n12 / ((12 / 8) - 1)\n12 / ((12 / 8) - 1)\n12 / ((12 / 8) - 1)\n12 / ((12 / 8) - 1)\n6 / ((5 / 4) - 1)\n6 / ((5 / 4) - 1)\n6 / ((5 / 4) - 1)\n6 / ((5 / 4) - 1)\n6 / ((5 / 4) - 1)\n6 / ((5 / 4) - 1)\n6 / ((5 / 4) - 1)\n12 / ((12 / 8) - 1)\n12 / ((12 / 8) - 1)\n12 / ((12 / 8) - 1)\n12 / ((12 / 8) - 1)\n12 / ((12 / 8) - 1)\n12 / ((12 / 8) - 1)\n12 / ((12 / 8) - 1)\n6 / ((5 / 4) - 1)\n6 / ((5 / 4) - 1)\n12 / ((12 / 8) - 1)\n12 / ((12 / 8) - 1)\n6 / ((5 / 4) - 1)\n6 / ((5 / 4) - 1)\n6 / ((5 / 4) - 1)\n6 / ((5 / 4) - 1)\n6 / ((5 / 4) - 1)\n6 / ((5 / 4) - 1)\n6 / ((5 / 4) - 1)\n6 / ((5 / 4) - 1)\n6 / ((5 / 4) - 1)\n6 / ((5 / 4) - 1)\n6 / ((5 / 4) - 1)\n6 / ((5 / 4) - 1)\n6 / ((5 / 4) - 1)\n6 / ((5 / 4) - 1)\n12 / ((12 / 8) - 1)\n12 / ((12 / 8) - 1)\n12 / ((12 / 8) - 1)\n12 / ((12 / 8) - 1)\n12 / ((12 / 8) - 1)\n12 / ((12 / 8) - 1)\n12 / ((12 / 8) - 1)\n12 / ((12 / 8) - 1)\n12 / ((12 / 8) - 1)\n12 / ((12 / 8) - 1)\n12 / ((12 / 8) - 1)\n12 / ((12 / 8) - 1)\n12 / ((12 / 8) - 1)\n12 / ((12 / 8) - 1)\n6 / ((5 / 4) - 1)\n6 / ((5 / 4) - 1)\n12 / ((12 / 8) - 1)\n12 / ((12 / 8) - 1)\n6 / ((5 / 4) - 1)\n6 / ((5 / 4) - 1)\n12 / ((12 / 8) - 1)\n12 / ((12 / 8) - 1)\n"
    },
    {
     "output_type": "execute_result",
     "data": {
      "text/plain": "0.19543078769969527"
     },
     "metadata": {},
     "execution_count": 40
    }
   ],
   "source": [
    "from collections import Counter\n",
    "s = list(range(1,14))*4\n",
    "c = Counter(bool(solve24(a)) for a in combinations(s,4))\n",
    "c[False]/(c[True]+c[False])"
   ]
  },
  {
   "cell_type": "code",
   "execution_count": 41,
   "metadata": {},
   "outputs": [
    {
     "output_type": "execute_result",
     "data": {
      "text/plain": "Counter({True: 217817, False: 52908})"
     },
     "metadata": {},
     "execution_count": 41
    }
   ],
   "source": [
    "c"
   ]
  },
  {
   "cell_type": "code",
   "execution_count": 23,
   "metadata": {},
   "outputs": [],
   "source": [
    "import operator\n",
    "from itertools import product, permutations,combinations,combinations_with_replacement\n",
    " \n",
    "def mydiv(n, d):\n",
    "    return n / d if d != 0 else 9999999\n",
    " \n",
    "syms = [operator.add, operator.sub, operator.mul, mydiv]\n",
    "op = {sym: ch for sym, ch in zip(syms, '+-*/')}\n",
    " \n",
    "def all24(nums):\n",
    "    solvelist=[]\n",
    "    for x, y, z in product(syms, repeat=3):\n",
    "        for a, b, c, d in permutations(nums):\n",
    "            if round(x(y(a,b),z(c,d)),5) == 24:\n",
    "                solvelist.append(f\"({a} {op[y]} {b}) {op[x]} ({c} {op[z]} {d})\")\n",
    "            if round(x(y(z(c,d),b),a),5) == 24:\n",
    "                solvelist.append(f\"(({c} {op[z]} {d}) {op[y]} {b}) {op[x]} {a}\")\n",
    "            if round(x(y(b,z(c,d)),a),5) == 24:\n",
    "                solvelist.append(f\"({b} {op[y]} ({c} {op[z]} {d})) {op[x]} {a}\")\n",
    "            if round(x(a,y(b,z(c,d))),5) == 24:\n",
    "                solvelist.append(f\"{a} {op[x]} ({b} {op[y]} ({c} {op[z]} {d}))\")\n",
    "            if round(x(a,y(z(c,d),b)),5) == 24:\n",
    "                solvelist.append(f\"{a} {op[x]} (({c} {op[z]} {d}) {op[y]} {b})\") \n",
    "    return solvelist"
   ]
  },
  {
   "cell_type": "code",
   "execution_count": 24,
   "metadata": {},
   "outputs": [
    {
     "output_type": "execute_result",
     "data": {
      "text/plain": "['12 / ((12 / 8) - 1)', '12 / ((12 / 8) - 1)']"
     },
     "metadata": {},
     "execution_count": 24
    }
   ],
   "source": [
    "all24([1,8,12,12])"
   ]
  },
  {
   "cell_type": "code",
   "execution_count": 14,
   "metadata": {},
   "outputs": [
    {
     "output_type": "stream",
     "name": "stdout",
     "text": "(1, 2, 7, 7) --> ((7 * 7) - 1) / 2\n(1, 3, 4, 6) --> 6 / (1 - (3 / 4))\n(1, 5, 11, 11) --> ((11 * 11) - 1) / 5\n(1, 6, 6, 8) --> 6 / (1 - (6 / 8))\n(1, 7, 13, 13) --> ((13 * 13) - 1) / 7\n(1, 8, 12, 12) --> 12 / ((12 / 8) - 1)\n(2, 3, 5, 12) --> 12 / (3 - (5 / 2))\n(3, 3, 5, 5) --> (5 * 5) - (3 / 3)\n(3, 3, 8, 8) --> 8 / (3 - (8 / 3))\n(4, 4, 10, 10) --> ((10 * 10) - 4) / 4\n(5, 5, 5, 5) --> (5 * 5) - (5 / 5)\n(5, 5, 8, 8) --> (5 * 5) - (8 / 8)\n(5, 5, 9, 9) --> (5 * 5) - (9 / 9)\n(5, 5, 10, 10) --> (5 * 5) - (10 / 10)\n(5, 5, 11, 11) --> (5 * 5) - (11 / 11)\n(5, 5, 13, 13) --> (5 * 5) - (13 / 13)\n"
    }
   ],
   "source": [
    "for a in combinations_with_replacement(range(1,14),4):\n",
    "    so=all24(a)\n",
    "    if len(set(so)) == 1:\n",
    "        print(f'{a} --> {so[0]}')"
   ]
  },
  {
   "cell_type": "code",
   "execution_count": 15,
   "metadata": {},
   "outputs": [
    {
     "output_type": "stream",
     "name": "stdout",
     "text": "([5, 5, 5, 1]) -> {'5 * (5 - (1 / 5))', '(5 - (1 / 5)) * 5'}\n([6, 4, 3, 1]) -> {'6 / (1 - (3 / 4))'}\n([6, 5, 4, 1]) -> {'6 / ((5 / 4) - 1)', '4 / (1 - (5 / 6))'}\n([7, 7, 3, 3]) -> {'7 * (3 + (3 / 7))', '(3 + (3 / 7)) * 7', '((3 / 7) + 3) * 7', '7 * ((3 / 7) + 3)'}\n([7, 7, 4, 4]) -> {'(4 - (4 / 7)) * 7', '7 * (4 - (4 / 7))'}\n([8, 6, 6, 1]) -> {'6 / (1 - (6 / 8))'}\n([8, 8, 3, 3]) -> {'8 / (3 - (8 / 3))'}\n([10, 5, 5, 2]) -> {'(5 - (2 / 10)) * 5', '5 * (5 - (2 / 10))'}\n([10, 7, 7, 2]) -> {'7 * (2 + (10 / 7))', '7 * ((10 / 7) + 2)', '(2 + (10 / 7)) * 7', '((10 / 7) + 2) * 7'}\n([10, 10, 4, 2]) -> {'10 * (2 + (4 / 10))', '10 * ((4 / 10) + 2)', '(2 + (4 / 10)) * 10', '((4 / 10) + 2) * 10'}\n([11, 7, 5, 5]) -> {'(7 - (11 / 5)) * 5', '5 * (7 - (11 / 5))'}\n([11, 7, 7, 5]) -> {'(5 - (11 / 7)) * 7', '7 * (5 - (11 / 7))'}\n([11, 11, 2, 2]) -> {'(2 + (2 / 11)) * 11', '11 * ((2 / 11) + 2)', '11 * (2 + (2 / 11))', '((2 / 11) + 2) * 11'}\n([12, 5, 3, 2]) -> {'12 / (3 - (5 / 2))'}\n([13, 13, 2, 2]) -> {'13 * (2 - (2 / 13))', '(2 - (2 / 13)) * 13'}\n"
    }
   ],
   "source": [
    "for nums in [\n",
    "        [5,5,5,1],\n",
    "        [6,4,3,1],\n",
    "        [6,5,4,1],\n",
    "        [7,7,3,3],\n",
    "        [7,7,4,4],\n",
    "        [8,6,6,1],\n",
    "        [8,8,3,3],\n",
    "        [10,5,5,2],\n",
    "        [10,7,7,2],\n",
    "        [10,10,4,2],\n",
    "        [11,7,5,5],\n",
    "        [11,7,7,5],\n",
    "        [11,11,2,2],\n",
    "        [12,5,3,2],\n",
    "        [13,13,2,2],\n",
    "            ]:\n",
    "        print(f\"({nums}) -> {set(all24(nums))}\")"
   ]
  },
  {
   "cell_type": "code",
   "execution_count": 21,
   "metadata": {},
   "outputs": [],
   "source": [
    "import operator\n",
    "from itertools import product, permutations,combinations,combinations_with_replacement\n",
    " \n",
    "def mydiv(n, d):\n",
    "    return n / d if d != 0 else 9999999\n",
    " \n",
    "syms = [operator.add, operator.sub, operator.mul, mydiv]\n",
    "op = {sym: ch for sym, ch in zip(syms, '+-*/')}\n",
    " \n",
    "def diff24(nums):\n",
    "    solvelist=[]\n",
    "    for x, y, z in product(syms, repeat=3):\n",
    "        for a, b, c, d in permutations(nums):\n",
    "            if round(x(y(a,b),z(c,d)),5) == 24:\n",
    "                if (op[y]=='/' and a % b) or (op[z]=='/' and c % d):\n",
    "                    solvelist.append(f\"({a} {op[y]} {b}) {op[x]} ({c} {op[z]} {d})\")\n",
    "                else:\n",
    "                    return []\n",
    "            if round(x(y(z(c,d),b),a),5) == 24:\n",
    "                if (op[z]=='/' and c % d) or (op[y]=='/' and z(c,d) % b):\n",
    "                    solvelist.append(f\"(({c} {op[z]} {d}) {op[y]} {b}) {op[x]} {a}\")\n",
    "                else:\n",
    "                    return []\n",
    "            if round(x(y(b,z(c,d)),a),5) == 24:\n",
    "                if (op[z]=='/' and c % d) or (op[y]=='/' and z(c,d) % b):\n",
    "                    solvelist.append(f\"({b} {op[y]} ({c} {op[z]} {d})) {op[x]} {a}\")\n",
    "                else:\n",
    "                    return []\n",
    "            if round(x(a,y(b,z(c,d))),5) == 24:\n",
    "                if (op[z]=='/' and c % d) or (op[y]=='/' and z(c,d) % b):\n",
    "                    solvelist.append(f\"{a} {op[x]} ({b} {op[y]} ({c} {op[z]} {d}))\")\n",
    "                else:\n",
    "                    return []\n",
    "            if round(x(a,y(z(c,d),b)),5) == 24:\n",
    "                if (op[z]=='/' and c % d) or (op[y]=='/' and z(c,d) % b):\n",
    "                    solvelist.append(f\"{a} {op[x]} (({c} {op[z]} {d}) {op[y]} {b})\") \n",
    "                else:\n",
    "                    return []\n",
    "    return solvelist"
   ]
  },
  {
   "cell_type": "code",
   "execution_count": 25,
   "metadata": {},
   "outputs": [
    {
     "output_type": "stream",
     "name": "stdout",
     "text": "(1, 3, 4, 6) --> {'6 / (1 - (3 / 4))'}\n(1, 4, 5, 6) --> {'6 / ((5 / 4) - 1)', '4 / (1 - (5 / 6))'}\n(1, 5, 5, 5) --> {'5 * (5 - (1 / 5))', '(5 - (1 / 5)) * 5'}\n(1, 6, 6, 8) --> {'6 / (1 - (6 / 8))'}\n(1, 8, 12, 12) --> {'12 / ((12 / 8) - 1)'}\n(2, 2, 11, 11) --> {'(2 + (2 / 11)) * 11', '11 * ((2 / 11) + 2)', '11 * (2 + (2 / 11))', '((2 / 11) + 2) * 11'}\n(2, 2, 13, 13) --> {'13 * (2 - (2 / 13))', '(2 - (2 / 13)) * 13'}\n(2, 3, 5, 12) --> {'12 / (3 - (5 / 2))'}\n(2, 4, 10, 10) --> {'10 * (2 + (4 / 10))', '10 * ((4 / 10) + 2)', '(2 + (4 / 10)) * 10', '((4 / 10) + 2) * 10'}\n(2, 5, 5, 10) --> {'(5 - (2 / 10)) * 5', '5 * (5 - (2 / 10))'}\n(2, 7, 7, 10) --> {'7 * (2 + (10 / 7))', '7 * ((10 / 7) + 2)', '(2 + (10 / 7)) * 7', '((10 / 7) + 2) * 7'}\n(3, 3, 7, 7) --> {'7 * (3 + (3 / 7))', '(3 + (3 / 7)) * 7', '((3 / 7) + 3) * 7', '7 * ((3 / 7) + 3)'}\n(3, 3, 8, 8) --> {'8 / (3 - (8 / 3))'}\n(4, 4, 7, 7) --> {'(4 - (4 / 7)) * 7', '7 * (4 - (4 / 7))'}\n(5, 5, 7, 11) --> {'(7 - (11 / 5)) * 5', '5 * (7 - (11 / 5))'}\n(5, 7, 7, 11) --> {'(5 - (11 / 7)) * 7', '7 * (5 - (11 / 7))'}\n"
    }
   ],
   "source": [
    "for a in combinations_with_replacement(range(1,14),4):\n",
    "    if diff24(a):\n",
    "        print(f'{a} --> {set(diff24(a))}')"
   ]
  },
  {
   "cell_type": "code",
   "execution_count": 20,
   "metadata": {},
   "outputs": [
    {
     "output_type": "error",
     "ename": "ZeroDivisionError",
     "evalue": "integer division or modulo by zero",
     "traceback": [
      "\u001b[1;31m---------------------------------------------------------------------------\u001b[0m",
      "\u001b[1;31mZeroDivisionError\u001b[0m                         Traceback (most recent call last)",
      "\u001b[1;32m<ipython-input-20-e861e3b80f11>\u001b[0m in \u001b[0;36m<module>\u001b[1;34m\u001b[0m\n\u001b[1;32m----> 1\u001b[1;33m \u001b[1;36m5\u001b[0m\u001b[1;33m%\u001b[0m\u001b[1;36m0\u001b[0m\u001b[1;33m\u001b[0m\u001b[1;33m\u001b[0m\u001b[0m\n\u001b[0m",
      "\u001b[1;31mZeroDivisionError\u001b[0m: integer division or modulo by zero"
     ]
    }
   ],
   "source": [
    "5%0"
   ]
  },
  {
   "cell_type": "code",
   "execution_count": null,
   "metadata": {},
   "outputs": [],
   "source": []
  }
 ]
}